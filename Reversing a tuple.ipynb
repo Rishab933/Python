{
 "cells": [
  {
   "cell_type": "code",
   "execution_count": 1,
   "id": "e019b6e1-cbe8-45aa-bc82-ac0f233bc83d",
   "metadata": {},
   "outputs": [],
   "source": [
    "# reversed() --> this function is used to iterate through a sequence in reversed order"
   ]
  },
  {
   "cell_type": "code",
   "execution_count": 10,
   "id": "8bb760a0-a282-41da-946b-8ef196360d61",
   "metadata": {},
   "outputs": [
    {
     "name": "stdout",
     "output_type": "stream",
     "text": [
      "[15, 14, 13, 12, 11, 10]\n"
     ]
    }
   ],
   "source": [
    "a = (10,11,12,13,14,15)\n",
    "x = []\n",
    "for i in reversed(a):\n",
    "    x.append(i)\n",
    "print(x)"
   ]
  },
  {
   "cell_type": "code",
   "execution_count": 11,
   "id": "d04bcdd9-274a-46c4-811f-63bc85d101dd",
   "metadata": {},
   "outputs": [
    {
     "name": "stdout",
     "output_type": "stream",
     "text": [
      "(15, 14, 13, 12, 11, 10)\n",
      "<class 'tuple'>\n"
     ]
    }
   ],
   "source": [
    "# now typecasting this list into a tuple\n",
    "Tuple = tuple(x)\n",
    "print(Tuple)\n",
    "print(type(Tuple))"
   ]
  }
 ],
 "metadata": {
  "kernelspec": {
   "display_name": "Python 3 (ipykernel)",
   "language": "python",
   "name": "python3"
  },
  "language_info": {
   "codemirror_mode": {
    "name": "ipython",
    "version": 3
   },
   "file_extension": ".py",
   "mimetype": "text/x-python",
   "name": "python",
   "nbconvert_exporter": "python",
   "pygments_lexer": "ipython3",
   "version": "3.12.3"
  }
 },
 "nbformat": 4,
 "nbformat_minor": 5
}
