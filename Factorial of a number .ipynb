{
 "cells": [
  {
   "cell_type": "code",
   "execution_count": 9,
   "id": "4c86e536-ae11-4620-b2fb-d5154d8d7a08",
   "metadata": {},
   "outputs": [
    {
     "name": "stdin",
     "output_type": "stream",
     "text": [
      "Enter the number to find the factorial of : 1\n"
     ]
    },
    {
     "name": "stdout",
     "output_type": "stream",
     "text": [
      "The factorial of the number is :  1\n"
     ]
    }
   ],
   "source": [
    "n = int(input(\"Enter the number to find the factorial of :\"))\n",
    "def fact(n):\n",
    "    if n == 0:\n",
    "        return 1\n",
    "    else:\n",
    "         p =1\n",
    "         for i in range(2,n+1,1):\n",
    "            p *= i\n",
    "         return p\n",
    "        \n",
    "   \n",
    "factorial = fact(n)\n",
    "print(\"The factorial of the number is : \",factorial)"
   ]
  }
 ],
 "metadata": {
  "kernelspec": {
   "display_name": "Python 3 (ipykernel)",
   "language": "python",
   "name": "python3"
  },
  "language_info": {
   "codemirror_mode": {
    "name": "ipython",
    "version": 3
   },
   "file_extension": ".py",
   "mimetype": "text/x-python",
   "name": "python",
   "nbconvert_exporter": "python",
   "pygments_lexer": "ipython3",
   "version": "3.12.3"
  }
 },
 "nbformat": 4,
 "nbformat_minor": 5
}
