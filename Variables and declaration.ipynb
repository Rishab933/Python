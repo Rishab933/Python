{
 "cells": [
  {
   "cell_type": "code",
   "execution_count": 1,
   "id": "7661e099-812e-42c1-839b-f35829d25b9d",
   "metadata": {},
   "outputs": [],
   "source": [
    "# we do not need to declare the type of the variabl\n",
    "# Python has a property that it is dynamically typed."
   ]
  },
  {
   "cell_type": "code",
   "execution_count": 7,
   "id": "fb5cadbb-6d68-4e78-96ff-73db706784e3",
   "metadata": {},
   "outputs": [],
   "source": [
    "x=5 # int\n",
    "z=\"Rishab\" # string\n",
    "a=2.10 # float\n",
    "b= bool(False) # boolean\n",
    "C = None # null"
   ]
  },
  {
   "cell_type": "code",
   "execution_count": 15,
   "id": "d828988f-75c5-4f7b-8f46-70b280b5659b",
   "metadata": {},
   "outputs": [
    {
     "name": "stdout",
     "output_type": "stream",
     "text": [
      "5\n",
      "Rishab\n",
      "2.1\n",
      "False\n",
      "None\n"
     ]
    }
   ],
   "source": [
    "print(x)\n",
    "print(z)\n",
    "print(a)\n",
    "print(b)\n",
    "print(C)"
   ]
  },
  {
   "cell_type": "code",
   "execution_count": 16,
   "id": "c177472d-1b31-44d5-9652-a367eec993c4",
   "metadata": {},
   "outputs": [],
   "source": [
    "# a variable name must start with a letter or the underscore char\n",
    "# A variable name can not start with a number\n",
    "# can contain alplanumeric char\n",
    "#Case sensitive\n",
    "#can not be a keyword"
   ]
  },
  {
   "cell_type": "code",
   "execution_count": null,
   "id": "eb25ef91-124d-442b-941e-f8df1d771539",
   "metadata": {},
   "outputs": [],
   "source": []
  }
 ],
 "metadata": {
  "kernelspec": {
   "display_name": "Python 3 (ipykernel)",
   "language": "python",
   "name": "python3"
  },
  "language_info": {
   "codemirror_mode": {
    "name": "ipython",
    "version": 3
   },
   "file_extension": ".py",
   "mimetype": "text/x-python",
   "name": "python",
   "nbconvert_exporter": "python",
   "pygments_lexer": "ipython3",
   "version": "3.12.3"
  }
 },
 "nbformat": 4,
 "nbformat_minor": 5
}
