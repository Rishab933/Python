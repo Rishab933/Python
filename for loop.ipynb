{
 "cells": [
  {
   "cell_type": "code",
   "execution_count": 3,
   "id": "4790b40c-d0d7-4832-9f68-9f6aa3955a74",
   "metadata": {},
   "outputs": [
    {
     "name": "stdout",
     "output_type": "stream",
     "text": [
      "Hello World\n",
      "Hello World\n",
      "Hello World\n",
      "Hello World\n",
      "Hello World\n",
      "Hello World\n",
      "Hello World\n",
      "Hello World\n",
      "Hello World\n",
      "Hello World\n"
     ]
    }
   ],
   "source": [
    "for i in range(1,11):\n",
    "    print(\"Hello World\")\n",
    "# by Default step is 1"
   ]
  },
  {
   "cell_type": "code",
   "execution_count": 2,
   "id": "a1ac927c-8c8c-465b-9443-e24e16982d90",
   "metadata": {},
   "outputs": [
    {
     "name": "stdout",
     "output_type": "stream",
     "text": [
      "1 Hello World\n",
      "2 Hello World\n",
      "3 Hello World\n",
      "4 Hello World\n",
      "5 Hello World\n",
      "6 Hello World\n",
      "7 Hello World\n",
      "8 Hello World\n",
      "9 Hello World\n",
      "10 Hello World\n"
     ]
    }
   ],
   "source": [
    "for i in range(1,11):\n",
    "    print(i,\"Hello World\")"
   ]
  },
  {
   "cell_type": "code",
   "execution_count": 4,
   "id": "94c89d73-a102-4b38-a536-e933c76fd78e",
   "metadata": {},
   "outputs": [
    {
     "name": "stdout",
     "output_type": "stream",
     "text": [
      "Hello World\n",
      "Hello World\n",
      "Hello World\n",
      "Hello World\n",
      "Hello World\n"
     ]
    }
   ],
   "source": [
    "for i in range(1,11,2):\n",
    "    print(\"Hello World\")\n",
    "# step is given as 2"
   ]
  },
  {
   "cell_type": "code",
   "execution_count": 6,
   "id": "adb9982b-44a0-446b-b8ac-305762350d29",
   "metadata": {},
   "outputs": [
    {
     "name": "stdout",
     "output_type": "stream",
     "text": [
      "Hello World\n",
      "Hello World\n",
      "Hello World\n",
      "Hello World\n",
      "Hello World\n",
      "Hello World\n",
      "Hello World\n",
      "Hello World\n",
      "Hello World\n",
      "Hello World\n",
      "Hello World\n"
     ]
    }
   ],
   "source": [
    "for i in range(11):\n",
    "    print(\"Hello World\")\n",
    "# by default taking the start point as 0 the given number is the stop point "
   ]
  },
  {
   "cell_type": "code",
   "execution_count": 8,
   "id": "cb172c94-c8f1-4882-950b-01f44e3940c2",
   "metadata": {},
   "outputs": [
    {
     "name": "stdout",
     "output_type": "stream",
     "text": [
      "Hello World\n",
      "Hello World\n",
      "Hello World\n",
      "Hello World\n",
      "Hello World\n",
      "Hello World\n",
      "Hello World\n",
      "Hello World\n",
      "Hello World\n",
      "Hello World\n",
      "Hello World\n"
     ]
    }
   ],
   "source": [
    "for _ in range(11):\n",
    "    print(\"Hello World\")\n",
    "# we also need the initial variable as its just a printing statement so the interpreter \n",
    "# take it as some value in range (11) --> print"
   ]
  },
  {
   "cell_type": "code",
   "execution_count": null,
   "id": "49fc996c-1292-40db-82c7-a8a080efba04",
   "metadata": {},
   "outputs": [],
   "source": []
  }
 ],
 "metadata": {
  "kernelspec": {
   "display_name": "Python 3 (ipykernel)",
   "language": "python",
   "name": "python3"
  },
  "language_info": {
   "codemirror_mode": {
    "name": "ipython",
    "version": 3
   },
   "file_extension": ".py",
   "mimetype": "text/x-python",
   "name": "python",
   "nbconvert_exporter": "python",
   "pygments_lexer": "ipython3",
   "version": "3.12.3"
  }
 },
 "nbformat": 4,
 "nbformat_minor": 5
}
