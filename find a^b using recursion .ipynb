{
 "cells": [
  {
   "cell_type": "code",
   "execution_count": 5,
   "id": "7f53ba12-3773-4394-bcf6-52c23f7e5947",
   "metadata": {},
   "outputs": [
    {
     "name": "stdin",
     "output_type": "stream",
     "text": [
      "Enter the base :  5\n",
      "Enter the power :  3\n"
     ]
    },
    {
     "name": "stdout",
     "output_type": "stream",
     "text": [
      "a raised to power b =  125\n"
     ]
    }
   ],
   "source": [
    "a = int(input(\"Enter the base : \"))\n",
    "b = int(input(\"Enter the power : \"))\n",
    "def pow(a,b):\n",
    "    if b == 0:\n",
    "        return 1\n",
    "    else:\n",
    "        ans = a*pow(a,b-1)\n",
    "        return ans\n",
    "\n",
    "output = pow(a,b)\n",
    "print(\"a raised to power b = \",output)"
   ]
  },
  {
   "cell_type": "code",
   "execution_count": null,
   "id": "971c71a8-ac21-47d6-8428-e4695b296c7c",
   "metadata": {},
   "outputs": [],
   "source": []
  }
 ],
 "metadata": {
  "kernelspec": {
   "display_name": "Python 3 (ipykernel)",
   "language": "python",
   "name": "python3"
  },
  "language_info": {
   "codemirror_mode": {
    "name": "ipython",
    "version": 3
   },
   "file_extension": ".py",
   "mimetype": "text/x-python",
   "name": "python",
   "nbconvert_exporter": "python",
   "pygments_lexer": "ipython3",
   "version": "3.12.3"
  }
 },
 "nbformat": 4,
 "nbformat_minor": 5
}
