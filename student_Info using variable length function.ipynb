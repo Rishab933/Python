{
 "cells": [
  {
   "cell_type": "code",
   "execution_count": 4,
   "id": "0e87a7a2-891e-45f9-bc2d-dae6db6438cb",
   "metadata": {},
   "outputs": [],
   "source": [
    "# Write a function which takes arbitary arguments and traverse and print all the values"
   ]
  },
  {
   "cell_type": "code",
   "execution_count": 3,
   "id": "b521efa0-7ab6-4e79-9070-141e44ff8b7f",
   "metadata": {},
   "outputs": [
    {
     "name": "stdout",
     "output_type": "stream",
     "text": [
      "name is ria\n",
      "age is 10\n",
      "city is kolkata\n",
      "name is priya\n",
      "age is 12\n",
      "city is kolkata\n"
     ]
    }
   ],
   "source": [
    "def studentinfo(**kwargs):\n",
    "    for x,y in kwargs.items():\n",
    "        print(x,\"is\",y)\n",
    "studentinfo(name=\"ria\",age=10,city=\"kolkata\")\n",
    "studentinfo(name=\"priya\",age=12,city=\"kolkata\")"
   ]
  }
 ],
 "metadata": {
  "kernelspec": {
   "display_name": "Python 3 (ipykernel)",
   "language": "python",
   "name": "python3"
  },
  "language_info": {
   "codemirror_mode": {
    "name": "ipython",
    "version": 3
   },
   "file_extension": ".py",
   "mimetype": "text/x-python",
   "name": "python",
   "nbconvert_exporter": "python",
   "pygments_lexer": "ipython3",
   "version": "3.12.3"
  }
 },
 "nbformat": 4,
 "nbformat_minor": 5
}
