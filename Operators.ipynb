{
 "cells": [
  {
   "cell_type": "code",
   "execution_count": 1,
   "id": "bf2cc40c-b18a-428f-8291-89f6105d2753",
   "metadata": {},
   "outputs": [],
   "source": [
    "# Arithmatic Operators:\n",
    "# add +\n",
    "# sub -\n",
    "# multiply *\n",
    "# division /\n",
    "# modulus %\n",
    "# exponent **\n",
    "# floor division //"
   ]
  },
  {
   "cell_type": "code",
   "execution_count": 3,
   "id": "50555964-d1d1-45df-ae35-225cc7836e26",
   "metadata": {},
   "outputs": [
    {
     "name": "stdin",
     "output_type": "stream",
     "text": [
      "Enter the first number:  200\n",
      "Enter the second number:  2\n"
     ]
    },
    {
     "name": "stdout",
     "output_type": "stream",
     "text": [
      "a+b =  202\n",
      "a-b =  198\n",
      "a*b =  400\n",
      "a/b =  100.0\n",
      "a%b =  0\n",
      "a**b =  40000\n",
      "a//b =  100\n"
     ]
    }
   ],
   "source": [
    "a = int(input(\"Enter the first number: \"))\n",
    "b = int(input(\"Enter the second number: \"))\n",
    "print(\"a+b = \",a+b)\n",
    "print(\"a-b = \",a-b)\n",
    "print(\"a*b = \",a*b)\n",
    "print(\"a/b = \",a/b)\n",
    "print(\"a%b = \",a%b)\n",
    "print(\"a**b = \",a**b)\n",
    "print(\"a//b = \",a//b)"
   ]
  },
  {
   "cell_type": "code",
   "execution_count": 4,
   "id": "30d23a7f-3fc0-4d5d-b841-f57b1561d4f8",
   "metadata": {},
   "outputs": [
    {
     "name": "stdout",
     "output_type": "stream",
     "text": [
      "5 5\n",
      "5 25\n"
     ]
    }
   ],
   "source": [
    "# Assignment Operators:\n",
    "n1 =5\n",
    "n2 =n1\n",
    "print(n1,n2)\n",
    "n2 *= n1\n",
    "print(n1,n2)"
   ]
  },
  {
   "cell_type": "code",
   "execution_count": 6,
   "id": "55614c1f-e8c5-48b2-8c34-a3fee60ca452",
   "metadata": {},
   "outputs": [
    {
     "name": "stdout",
     "output_type": "stream",
     "text": [
      "False\n",
      "True\n",
      "True\n",
      "False\n",
      "True\n",
      "False\n"
     ]
    }
   ],
   "source": [
    "# Comparison Operator:\n",
    "# ==, !=, >,<,<=,>=\n",
    "n = 2\n",
    "m = 5\n",
    "print(n==m)\n",
    "print(n!=m)\n",
    "print(n<m)\n",
    "print(n>m)\n",
    "print(n<=m)\n",
    "print(n>=m)"
   ]
  },
  {
   "cell_type": "code",
   "execution_count": 12,
   "id": "a2140089-d97b-4e56-b13b-b678123b01ea",
   "metadata": {},
   "outputs": [
    {
     "name": "stdout",
     "output_type": "stream",
     "text": [
      "False\n",
      "False\n",
      "True\n",
      "True\n"
     ]
    }
   ],
   "source": [
    "# Loggical Operators:\n",
    "# and, or, not\n",
    "exp1 = 1>2\n",
    "exp2 = 1==1\n",
    "print(exp1&exp2)\n",
    "print(exp1 and exp2)\n",
    "print(exp1 or exp2)\n",
    "print(not(exp1) and exp2)"
   ]
  },
  {
   "cell_type": "code",
   "execution_count": 15,
   "id": "c3bd8726-ee7b-491e-b02e-a2fb8112ca99",
   "metadata": {},
   "outputs": [
    {
     "name": "stdout",
     "output_type": "stream",
     "text": [
      "if x is y:  True\n",
      "if x is not y:  False\n"
     ]
    }
   ],
   "source": [
    "# Identity Operators:\n",
    "# is , is not\n",
    "x = 5\n",
    "y = 5\n",
    "print(\"if x is y: \",x is y)\n",
    "print(\"if x is not y: \",x is not y)"
   ]
  },
  {
   "cell_type": "code",
   "execution_count": 17,
   "id": "118c829b-63dd-41a0-99dc-b47421dd7215",
   "metadata": {},
   "outputs": [
    {
     "name": "stdout",
     "output_type": "stream",
     "text": [
      "if banana is present in fruits:  True\n",
      "if mango is present in fruits:  False\n",
      "if mango is not present in fruits:  True\n"
     ]
    }
   ],
   "source": [
    "# Membership Operators:\n",
    "# in , not in\n",
    "fruits = [\"apple\",\"banana\",\"cherry\"]\n",
    "print(\"if banana is present in fruits: \",\"banana\" in fruits)\n",
    "print(\"if mango is present in fruits: \",\"mango\" in fruits)\n",
    "print(\"if mango is not present in fruits: \",\"mango\" not in fruits)"
   ]
  },
  {
   "cell_type": "code",
   "execution_count": 19,
   "id": "4f2767cb-65b9-472b-bab0-849a4131b1a5",
   "metadata": {},
   "outputs": [
    {
     "name": "stdout",
     "output_type": "stream",
     "text": [
      " a & b = 1\n",
      " a | b = 7\n",
      " a ^ b = 6\n"
     ]
    }
   ],
   "source": [
    "# Bitwise Operators:\n",
    "# and &,or |, xor ^ , ~ not, << left shift, >> right shift\n",
    "a = 5\n",
    "b = 3\n",
    "print(\" a & b =\",a&b)\n",
    "print(\" a | b =\",a|b)\n",
    "print(\" a ^ b =\",a^b)"
   ]
  },
  {
   "cell_type": "code",
   "execution_count": null,
   "id": "dc63484b-4387-4026-9f68-cafebc2773e9",
   "metadata": {},
   "outputs": [],
   "source": [
    "# Operator Precedence\n",
    "() --> ** --> / --> * --> + --> shift operator --> & --> comparion operator(all) --> logicall and or\n",
    "             //           -                        |\n",
    "             %                                     ^\n",
    "HIGHER ------------------------------------------------------->> LOWER"
   ]
  }
 ],
 "metadata": {
  "kernelspec": {
   "display_name": "Python 3 (ipykernel)",
   "language": "python",
   "name": "python3"
  },
  "language_info": {
   "codemirror_mode": {
    "name": "ipython",
    "version": 3
   },
   "file_extension": ".py",
   "mimetype": "text/x-python",
   "name": "python",
   "nbconvert_exporter": "python",
   "pygments_lexer": "ipython3",
   "version": "3.12.3"
  }
 },
 "nbformat": 4,
 "nbformat_minor": 5
}
