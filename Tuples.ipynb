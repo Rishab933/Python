{
 "cells": [
  {
   "cell_type": "code",
   "execution_count": 5,
   "id": "43fd9de9-7426-4243-924e-d6410f9475a5",
   "metadata": {},
   "outputs": [
    {
     "name": "stdout",
     "output_type": "stream",
     "text": [
      "('red', 'blue', 'green')\n",
      "<class 'tuple'>\n",
      "3\n"
     ]
    }
   ],
   "source": [
    "# creating a tuple\n",
    "colours = (\"red\",\"blue\",\"green\")\n",
    "print(colours)\n",
    "print(type(colours))\n",
    "print(len(colours))"
   ]
  },
  {
   "cell_type": "code",
   "execution_count": 6,
   "id": "bb3bb3b2-2f6c-4415-8faf-f349fce813bf",
   "metadata": {},
   "outputs": [
    {
     "name": "stdout",
     "output_type": "stream",
     "text": [
      "('apple',)\n",
      "<class 'tuple'>\n",
      "1\n"
     ]
    }
   ],
   "source": [
    "# creating a tuple with one item \n",
    "# this coma at the end is important for a single item tuple\n",
    "fruits = (\"apple\",)\n",
    "print(fruits)\n",
    "print(type(fruits))\n",
    "print(len(fruits))"
   ]
  },
  {
   "cell_type": "code",
   "execution_count": 4,
   "id": "0c512a23-ed15-4ffd-a114-6f2b52013228",
   "metadata": {},
   "outputs": [
    {
     "name": "stdout",
     "output_type": "stream",
     "text": [
      "orange\n",
      "<class 'str'>\n"
     ]
    }
   ],
   "source": [
    "# without coma its not recognised as tuple\n",
    "fruit = (\"orange\")\n",
    "print(fruit)\n",
    "print(type(fruit))"
   ]
  },
  {
   "cell_type": "code",
   "execution_count": 9,
   "id": "25fa31d0-6c49-410b-a878-0a507018e039",
   "metadata": {},
   "outputs": [
    {
     "name": "stdout",
     "output_type": "stream",
     "text": [
      "('o', 'r', 'a', 'n', 'g', 'e')\n",
      "<class 'tuple'>\n",
      "6\n"
     ]
    }
   ],
   "source": [
    "# but with the key word tuple it will be recognised as a tuple\n",
    "fruit = tuple((\"orange\"))\n",
    "print(fruit)\n",
    "print(type(fruit))\n",
    "print(len(fruit))"
   ]
  },
  {
   "cell_type": "code",
   "execution_count": 14,
   "id": "eee0a078-1915-4a81-8223-6244af412e5c",
   "metadata": {},
   "outputs": [
    {
     "name": "stdout",
     "output_type": "stream",
     "text": [
      "(10, 20, 30, 40, 50)\n",
      "<class 'tuple'>\n",
      "5\n",
      "10\n",
      "20\n",
      "30\n",
      "40\n",
      "50\n"
     ]
    }
   ],
   "source": [
    "# Accessing items of tuple:\n",
    "a = (10,20,30,40,50)\n",
    "print(a)\n",
    "print(type(a))\n",
    "print(len(a))\n",
    "for i in range(len(a)):\n",
    "    print(a[i])"
   ]
  },
  {
   "cell_type": "code",
   "execution_count": 27,
   "id": "1ee67855-e4be-40e9-99e3-b7dac90d8132",
   "metadata": {},
   "outputs": [
    {
     "name": "stdout",
     "output_type": "stream",
     "text": [
      "50\n",
      "40\n",
      "30\n",
      "20\n",
      "10\n"
     ]
    }
   ],
   "source": [
    "# negative indexing and traversing\n",
    "for i in range(-1,-(len(a)+1),-1):\n",
    "    print(a[i])"
   ]
  },
  {
   "cell_type": "code",
   "execution_count": 28,
   "id": "f66df94f-8175-45cf-a825-b67f952c1401",
   "metadata": {},
   "outputs": [
    {
     "name": "stdout",
     "output_type": "stream",
     "text": [
      "(10, 20, 30, 40, 50)\n"
     ]
    }
   ],
   "source": [
    "print(a[0:5]) # range indexing"
   ]
  },
  {
   "cell_type": "code",
   "execution_count": 29,
   "id": "d922fe3a-805c-4ceb-afbd-f74b01a65104",
   "metadata": {},
   "outputs": [
    {
     "name": "stdout",
     "output_type": "stream",
     "text": [
      "(10, 20, 30, 40, 50)\n"
     ]
    }
   ],
   "source": [
    "print(a[-5:]) # negative range indexing"
   ]
  },
  {
   "cell_type": "code",
   "execution_count": 30,
   "id": "d227d183-ab68-4c8b-8c42-fce2e8cb363d",
   "metadata": {},
   "outputs": [
    {
     "name": "stdout",
     "output_type": "stream",
     "text": [
      "item not found\n"
     ]
    }
   ],
   "source": [
    "# checking an item in tuple:\n",
    "if 25 in a:\n",
    "    print(\"item found\")\n",
    "else:\n",
    "    print(\"item not found\")"
   ]
  },
  {
   "cell_type": "code",
   "execution_count": 32,
   "id": "5d85502e-56ce-46d5-958a-c3c15f52ec94",
   "metadata": {},
   "outputs": [
    {
     "name": "stdout",
     "output_type": "stream",
     "text": [
      "(10, 20, 30, 40, 50, 60, 70, 80, 90, 100)\n",
      "<class 'tuple'>\n"
     ]
    }
   ],
   "source": [
    "# concatenate 2 tuples:\n",
    "b = (60,70,80,90,100)\n",
    "a = a+b\n",
    "print(a)\n",
    "print(type(a))"
   ]
  },
  {
   "cell_type": "code",
   "execution_count": 34,
   "id": "a2311a28-5a21-4ff8-bb83-168e828b5326",
   "metadata": {},
   "outputs": [
    {
     "name": "stdout",
     "output_type": "stream",
     "text": [
      "(1, 2, 3)\n",
      "<class 'tuple'>\n"
     ]
    }
   ],
   "source": [
    "# unpacking a tuple:\n",
    "c = (1,2,3)\n",
    "print (c)\n",
    "print(type(c))"
   ]
  },
  {
   "cell_type": "code",
   "execution_count": 38,
   "id": "09e0fdc5-dbad-461a-9c04-81ca56e99811",
   "metadata": {},
   "outputs": [
    {
     "name": "stdout",
     "output_type": "stream",
     "text": [
      "1\n",
      "2\n",
      "3\n"
     ]
    }
   ],
   "source": [
    "x,y,z = c\n",
    "print(x)\n",
    "print(y)\n",
    "print(z)"
   ]
  }
 ],
 "metadata": {
  "kernelspec": {
   "display_name": "Python 3 (ipykernel)",
   "language": "python",
   "name": "python3"
  },
  "language_info": {
   "codemirror_mode": {
    "name": "ipython",
    "version": 3
   },
   "file_extension": ".py",
   "mimetype": "text/x-python",
   "name": "python",
   "nbconvert_exporter": "python",
   "pygments_lexer": "ipython3",
   "version": "3.12.3"
  }
 },
 "nbformat": 4,
 "nbformat_minor": 5
}
