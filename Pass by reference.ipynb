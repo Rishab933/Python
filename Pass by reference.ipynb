{
 "cells": [
  {
   "cell_type": "code",
   "execution_count": 2,
   "id": "b97ae3d2-f8e4-48e0-99a0-c88e41f0d220",
   "metadata": {},
   "outputs": [
    {
     "name": "stdout",
     "output_type": "stream",
     "text": [
      "Inside function :  [1, 2, 3, 4]\n",
      "outside function :  [1, 2, 3, 4]\n"
     ]
    }
   ],
   "source": [
    "def modifymyList(lst):\n",
    "    lst.append(4)\n",
    "    print(\"Inside function : \",lst)\n",
    "lst = [1,2,3]\n",
    "modifymyList(lst)\n",
    "print(\"outside function : \",lst)\n",
    "\n",
    "# original object is also changed"
   ]
  },
  {
   "cell_type": "code",
   "execution_count": 4,
   "id": "600fcba3-d5f5-44c0-9674-a2c33e393f74",
   "metadata": {},
   "outputs": [
    {
     "name": "stdout",
     "output_type": "stream",
     "text": [
      "Inside function :  [4, 5, 6]\n",
      "outside function :  [1, 2, 3]\n"
     ]
    }
   ],
   "source": [
    "def modifymyList(lst):\n",
    "    lst = [4,5,6]\n",
    "    print(\"Inside function : \",lst)\n",
    "lst = [1,2,3]\n",
    "modifymyList(lst)\n",
    "print(\"outside function : \",lst)\n",
    "\n",
    "# here the list is not modified rather a new object as lst is created as we are using assignment operater '='"
   ]
  },
  {
   "cell_type": "code",
   "execution_count": null,
   "id": "4fc054eb-8465-4226-9577-9942b8c31aa4",
   "metadata": {},
   "outputs": [],
   "source": []
  }
 ],
 "metadata": {
  "kernelspec": {
   "display_name": "Python 3 (ipykernel)",
   "language": "python",
   "name": "python3"
  },
  "language_info": {
   "codemirror_mode": {
    "name": "ipython",
    "version": 3
   },
   "file_extension": ".py",
   "mimetype": "text/x-python",
   "name": "python",
   "nbconvert_exporter": "python",
   "pygments_lexer": "ipython3",
   "version": "3.12.3"
  }
 },
 "nbformat": 4,
 "nbformat_minor": 5
}
