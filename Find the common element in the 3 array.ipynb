{
 "cells": [
  {
   "cell_type": "code",
   "execution_count": 8,
   "id": "9b24f6e3-df41-4dfa-be94-c472d51ea645",
   "metadata": {},
   "outputs": [
    {
     "name": "stdout",
     "output_type": "stream",
     "text": [
      "Enter the size of the first array\n"
     ]
    },
    {
     "name": "stdin",
     "output_type": "stream",
     "text": [
      " 6\n"
     ]
    },
    {
     "name": "stdout",
     "output_type": "stream",
     "text": [
      "Enter the size of the second array\n"
     ]
    },
    {
     "name": "stdin",
     "output_type": "stream",
     "text": [
      " 5\n"
     ]
    },
    {
     "name": "stdout",
     "output_type": "stream",
     "text": [
      "Enter the size of the third array\n"
     ]
    },
    {
     "name": "stdin",
     "output_type": "stream",
     "text": [
      " 8\n"
     ]
    },
    {
     "name": "stdout",
     "output_type": "stream",
     "text": [
      "Enter the elements in the first array\n"
     ]
    },
    {
     "name": "stdin",
     "output_type": "stream",
     "text": [
      " 1\n",
      " 5\n",
      " 10\n",
      " 20\n",
      " 40\n",
      " 80\n"
     ]
    },
    {
     "name": "stdout",
     "output_type": "stream",
     "text": [
      "Enter the elements in the second array\n"
     ]
    },
    {
     "name": "stdin",
     "output_type": "stream",
     "text": [
      " 6\n",
      " 7\n",
      " 20\n",
      " 80\n",
      " 100\n"
     ]
    },
    {
     "name": "stdout",
     "output_type": "stream",
     "text": [
      "Enter the elements in the third array\n"
     ]
    },
    {
     "name": "stdin",
     "output_type": "stream",
     "text": [
      " 3\n",
      " 4\n",
      " 15\n",
      " 20\n",
      " 30\n",
      " 70\n",
      " 80\n",
      " 120\n"
     ]
    },
    {
     "name": "stdout",
     "output_type": "stream",
     "text": [
      "['1', '5', '10', '20', '40', '80']\n",
      "['6', '7', '20', '80', '100']\n",
      "['3', '4', '15', '20', '30', '70', '80', '120']\n"
     ]
    }
   ],
   "source": [
    "a=[]\n",
    "b=[]\n",
    "c=[]\n",
    "print(\"Enter the size of the first array\")\n",
    "an = int(input())\n",
    "print(\"Enter the size of the second array\")\n",
    "bn = int(input())\n",
    "print(\"Enter the size of the third array\")\n",
    "cn = int(input())\n",
    "print(\"Enter the elements in the first array\")\n",
    "for i in range(an):\n",
    "    a.append(input())\n",
    "print(\"Enter the elements in the second array\")\n",
    "for i in range(bn):\n",
    "    b.append(input())\n",
    "print(\"Enter the elements in the third array\")\n",
    "for i in range(cn):\n",
    "    c.append(input())\n",
    "print(a)\n",
    "print(b)\n",
    "print(c)"
   ]
  },
  {
   "cell_type": "code",
   "execution_count": 11,
   "id": "e83e2182-f68f-45ec-8a56-423421e88640",
   "metadata": {},
   "outputs": [
    {
     "name": "stdout",
     "output_type": "stream",
     "text": [
      "{'20', '40', '5', '10', '80', '1'}\n",
      "{'80', '100', '20', '7', '6'}\n",
      "{'70', '3', '15', '80', '20', '4', '120', '30'}\n"
     ]
    }
   ],
   "source": [
    "a = set(a)\n",
    "print(a)\n",
    "b = set(b)\n",
    "c = set(c)\n",
    "print(b)\n",
    "print(c)"
   ]
  },
  {
   "cell_type": "code",
   "execution_count": 12,
   "id": "8339e22e-8a48-4a90-a66e-3d90b32ee29b",
   "metadata": {},
   "outputs": [
    {
     "name": "stdout",
     "output_type": "stream",
     "text": [
      "{'20', '80'}\n"
     ]
    }
   ],
   "source": [
    "a.intersection_update(b)\n",
    "a.intersection_update(c)\n",
    "print(a)"
   ]
  }
 ],
 "metadata": {
  "kernelspec": {
   "display_name": "Python 3 (ipykernel)",
   "language": "python",
   "name": "python3"
  },
  "language_info": {
   "codemirror_mode": {
    "name": "ipython",
    "version": 3
   },
   "file_extension": ".py",
   "mimetype": "text/x-python",
   "name": "python",
   "nbconvert_exporter": "python",
   "pygments_lexer": "ipython3",
   "version": "3.12.3"
  }
 },
 "nbformat": 4,
 "nbformat_minor": 5
}
