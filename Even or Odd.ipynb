{
 "cells": [
  {
   "cell_type": "code",
   "execution_count": 2,
   "id": "665d5cee-b7f4-45e9-a0b9-3b38e7d46e46",
   "metadata": {},
   "outputs": [
    {
     "name": "stdin",
     "output_type": "stream",
     "text": [
      "Enter a number to check Even or Odd :  27\n"
     ]
    },
    {
     "name": "stdout",
     "output_type": "stream",
     "text": [
      "27 is an Odd number.\n"
     ]
    }
   ],
   "source": [
    "x = int(input(\"Enter a number to check Even or Odd : \"))\n",
    "if x%2 == 0 :\n",
    "    print(x,\"is an Even number.\")\n",
    "else :\n",
    "    print(x,\"is an Odd number.\")"
   ]
  },
  {
   "cell_type": "code",
   "execution_count": null,
   "id": "21fde2a8-4e4e-477c-9228-afa3f68eb911",
   "metadata": {},
   "outputs": [],
   "source": []
  }
 ],
 "metadata": {
  "kernelspec": {
   "display_name": "Python 3 (ipykernel)",
   "language": "python",
   "name": "python3"
  },
  "language_info": {
   "codemirror_mode": {
    "name": "ipython",
    "version": 3
   },
   "file_extension": ".py",
   "mimetype": "text/x-python",
   "name": "python",
   "nbconvert_exporter": "python",
   "pygments_lexer": "ipython3",
   "version": "3.12.3"
  }
 },
 "nbformat": 4,
 "nbformat_minor": 5
}
