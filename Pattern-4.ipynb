{
 "cells": [
  {
   "cell_type": "code",
   "execution_count": 1,
   "id": "685218a9-b541-4751-8a86-f381e08caa38",
   "metadata": {},
   "outputs": [],
   "source": [
    "# A\n",
    "# AB\n",
    "# ABC\n",
    "# ABCD"
   ]
  },
  {
   "cell_type": "code",
   "execution_count": 8,
   "id": "65cc8325-3440-4e7b-9c77-14745cf6f073",
   "metadata": {},
   "outputs": [
    {
     "name": "stdin",
     "output_type": "stream",
     "text": [
      "Enter the number of rows :  4\n"
     ]
    },
    {
     "name": "stdout",
     "output_type": "stream",
     "text": [
      "A\n",
      "AB\n",
      "ABC\n",
      "ABCD\n"
     ]
    }
   ],
   "source": [
    "n = int(input(\"Enter the number of rows : \"))\n",
    "for i in range(1,n+1):\n",
    "    for j in range(65,i+65):\n",
    "        print(chr(j),end = \"\")\n",
    "    print()"
   ]
  },
  {
   "cell_type": "code",
   "execution_count": null,
   "id": "9ca093c6-d379-47f8-abf4-ccbf9bfc5cd5",
   "metadata": {},
   "outputs": [],
   "source": []
  }
 ],
 "metadata": {
  "kernelspec": {
   "display_name": "Python 3 (ipykernel)",
   "language": "python",
   "name": "python3"
  },
  "language_info": {
   "codemirror_mode": {
    "name": "ipython",
    "version": 3
   },
   "file_extension": ".py",
   "mimetype": "text/x-python",
   "name": "python",
   "nbconvert_exporter": "python",
   "pygments_lexer": "ipython3",
   "version": "3.12.3"
  }
 },
 "nbformat": 4,
 "nbformat_minor": 5
}
