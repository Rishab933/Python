{
 "cells": [
  {
   "cell_type": "code",
   "execution_count": 3,
   "id": "c3579ecc-1676-4995-8593-9a36f6f8f4c2",
   "metadata": {},
   "outputs": [
    {
     "name": "stdin",
     "output_type": "stream",
     "text": [
      "Enter the first number :  100\n",
      "Enter the second number :  5000\n",
      "Enter the third number :  4999\n"
     ]
    },
    {
     "name": "stdout",
     "output_type": "stream",
     "text": [
      "5000 is the greatest number\n"
     ]
    }
   ],
   "source": [
    "a = int(input(\"Enter the first number : \"))\n",
    "b = int(input(\"Enter the second number : \"))\n",
    "c = int(input(\"Enter the third number : \"))\n",
    "if a>b and a>c :\n",
    "    print(a,\"is the greatest number\")\n",
    "elif b>a and b>c :\n",
    "    print(b,\"is the greatest number\")\n",
    "else :\n",
    "    print(c,\"is the greatest number\")"
   ]
  },
  {
   "cell_type": "code",
   "execution_count": null,
   "id": "7e119b1d-67f4-4dbb-ad59-4c120e607e1b",
   "metadata": {},
   "outputs": [],
   "source": []
  }
 ],
 "metadata": {
  "kernelspec": {
   "display_name": "Python 3 (ipykernel)",
   "language": "python",
   "name": "python3"
  },
  "language_info": {
   "codemirror_mode": {
    "name": "ipython",
    "version": 3
   },
   "file_extension": ".py",
   "mimetype": "text/x-python",
   "name": "python",
   "nbconvert_exporter": "python",
   "pygments_lexer": "ipython3",
   "version": "3.12.3"
  }
 },
 "nbformat": 4,
 "nbformat_minor": 5
}
