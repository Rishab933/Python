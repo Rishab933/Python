{
 "cells": [
  {
   "cell_type": "code",
   "execution_count": 1,
   "id": "e30cc0df-ccb3-4ed9-a074-cf933e6e6687",
   "metadata": {},
   "outputs": [],
   "source": [
    "# for n = 4\n",
    "# 1234\n",
    "# 1234\n",
    "# 1234\n",
    "# 1234"
   ]
  },
  {
   "cell_type": "code",
   "execution_count": 12,
   "id": "d1ff3c91-d55b-4f67-8af3-38f54aac3a38",
   "metadata": {},
   "outputs": [
    {
     "name": "stdin",
     "output_type": "stream",
     "text": [
      "Enter the number of rows :  4\n"
     ]
    },
    {
     "name": "stdout",
     "output_type": "stream",
     "text": [
      "1234\n",
      "\n",
      "1234\n",
      "\n",
      "1234\n",
      "\n",
      "1234\n",
      "\n"
     ]
    }
   ],
   "source": [
    "n = int(input(\"Enter the number of rows : \"))\n",
    "for i in range(n):\n",
    "    for j in range(1,n+1):\n",
    "        print(j,end=\"\")\n",
    "    print(\"\\n\")\n",
    "\n",
    "# end is an operator which does not allow to change the line "
   ]
  },
  {
   "cell_type": "code",
   "execution_count": 13,
   "id": "83e36f02-7ae3-4a9d-b797-1b5fd5d265f1",
   "metadata": {},
   "outputs": [
    {
     "name": "stdin",
     "output_type": "stream",
     "text": [
      "Enter the number of rows :  6\n"
     ]
    },
    {
     "name": "stdout",
     "output_type": "stream",
     "text": [
      "123456\n",
      "\n",
      "123456\n",
      "\n",
      "123456\n",
      "\n",
      "123456\n",
      "\n",
      "123456\n",
      "\n",
      "123456\n",
      "\n"
     ]
    }
   ],
   "source": [
    "n = int(input(\"Enter the number of rows : \"))\n",
    "for i in range(n):\n",
    "    for j in range(1,n+1):\n",
    "        print(j,end=\"\")\n",
    "    print(\"\\n\")"
   ]
  },
  {
   "cell_type": "code",
   "execution_count": null,
   "id": "2f627874-e238-4cce-a7ab-fa1256a4e97d",
   "metadata": {},
   "outputs": [],
   "source": []
  }
 ],
 "metadata": {
  "kernelspec": {
   "display_name": "Python 3 (ipykernel)",
   "language": "python",
   "name": "python3"
  },
  "language_info": {
   "codemirror_mode": {
    "name": "ipython",
    "version": 3
   },
   "file_extension": ".py",
   "mimetype": "text/x-python",
   "name": "python",
   "nbconvert_exporter": "python",
   "pygments_lexer": "ipython3",
   "version": "3.12.3"
  }
 },
 "nbformat": 4,
 "nbformat_minor": 5
}
