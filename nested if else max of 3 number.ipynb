{
 "cells": [
  {
   "cell_type": "code",
   "execution_count": 1,
   "id": "42cd77d3-48d2-4ad9-9cb0-150d2ebd4a28",
   "metadata": {},
   "outputs": [
    {
     "name": "stdin",
     "output_type": "stream",
     "text": [
      "Enter the first number :  10\n",
      "Enter the second number :  20\n",
      "Enter the third number :  30\n"
     ]
    },
    {
     "name": "stdout",
     "output_type": "stream",
     "text": [
      "30 is the greatest number.\n"
     ]
    }
   ],
   "source": [
    "a = int(input(\"Enter the first number : \"))\n",
    "b = int(input(\"Enter the second number : \"))\n",
    "c = int(input(\"Enter the third number : \"))\n",
    "\n",
    "if a>b:\n",
    "    if a>c:\n",
    "        print(a,\"is the greatest number.\")\n",
    "    else:\n",
    "        print(c,\"is the greatest number.\")\n",
    "else:\n",
    "    if b>c:\n",
    "        print(b,\"is the greatest number.\")\n",
    "    else:\n",
    "        print(c,\"is the greatest number.\")\n",
    "        "
   ]
  },
  {
   "cell_type": "code",
   "execution_count": null,
   "id": "06747766-52dd-41dd-be46-90bfff1a4dfd",
   "metadata": {},
   "outputs": [],
   "source": []
  }
 ],
 "metadata": {
  "kernelspec": {
   "display_name": "Python 3 (ipykernel)",
   "language": "python",
   "name": "python3"
  },
  "language_info": {
   "codemirror_mode": {
    "name": "ipython",
    "version": 3
   },
   "file_extension": ".py",
   "mimetype": "text/x-python",
   "name": "python",
   "nbconvert_exporter": "python",
   "pygments_lexer": "ipython3",
   "version": "3.12.3"
  }
 },
 "nbformat": 4,
 "nbformat_minor": 5
}
