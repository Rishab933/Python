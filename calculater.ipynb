{
 "cells": [
  {
   "cell_type": "code",
   "execution_count": 3,
   "id": "a184b309-5d4b-41f9-a607-0805286d1dd4",
   "metadata": {},
   "outputs": [
    {
     "name": "stdin",
     "output_type": "stream",
     "text": [
      "Enter number 1 :  10\n",
      "Enter number 2 :  20\n",
      "Enter the operator :  -\n"
     ]
    },
    {
     "name": "stdout",
     "output_type": "stream",
     "text": [
      "Difference is :  -10\n"
     ]
    }
   ],
   "source": [
    "a = int(input(\"Enter number 1 : \"))\n",
    "b = int(input(\"Enter number 2 : \"))\n",
    "operator = input(\"Enter the operator : \")\n",
    "match operator :\n",
    "    case \"+\" :\n",
    "        print(\"Sum is : \",a+b)\n",
    "    case \"-\" :\n",
    "        print(\"Difference is : \",a-b)\n",
    "    case \"*\" :\n",
    "        print(\"Product is : \",a*b)\n",
    "    case \"/\" :\n",
    "        print(\"Qotient is : \",a/b)\n",
    "    case _ :\n",
    "        print(\"Enter a valid operator\")"
   ]
  },
  {
   "cell_type": "code",
   "execution_count": null,
   "id": "9da38268-35eb-4fff-9f82-adc6f30109ba",
   "metadata": {},
   "outputs": [],
   "source": []
  }
 ],
 "metadata": {
  "kernelspec": {
   "display_name": "Python 3 (ipykernel)",
   "language": "python",
   "name": "python3"
  },
  "language_info": {
   "codemirror_mode": {
    "name": "ipython",
    "version": 3
   },
   "file_extension": ".py",
   "mimetype": "text/x-python",
   "name": "python",
   "nbconvert_exporter": "python",
   "pygments_lexer": "ipython3",
   "version": "3.12.3"
  }
 },
 "nbformat": 4,
 "nbformat_minor": 5
}
