{
 "cells": [
  {
   "cell_type": "code",
   "execution_count": 3,
   "id": "b5bb6655-9910-4a81-a4de-bcc0a02e7915",
   "metadata": {},
   "outputs": [
    {
     "name": "stdin",
     "output_type": "stream",
     "text": [
      "Enter a number to check that the number is positive or negative :  20\n"
     ]
    },
    {
     "name": "stdout",
     "output_type": "stream",
     "text": [
      "20 is a positive number.\n"
     ]
    }
   ],
   "source": [
    "x = int(input(\"Enter a number to check that the number is positive or negative : \"))\n",
    "if x<0 :\n",
    "    print(x,\"is a negative number.\")\n",
    "else :\n",
    "    print(x,\"is a positive number.\")"
   ]
  },
  {
   "cell_type": "code",
   "execution_count": null,
   "id": "cad48924-952f-4421-a498-6974e1bc3870",
   "metadata": {},
   "outputs": [],
   "source": []
  }
 ],
 "metadata": {
  "kernelspec": {
   "display_name": "Python 3 (ipykernel)",
   "language": "python",
   "name": "python3"
  },
  "language_info": {
   "codemirror_mode": {
    "name": "ipython",
    "version": 3
   },
   "file_extension": ".py",
   "mimetype": "text/x-python",
   "name": "python",
   "nbconvert_exporter": "python",
   "pygments_lexer": "ipython3",
   "version": "3.12.3"
  }
 },
 "nbformat": 4,
 "nbformat_minor": 5
}
