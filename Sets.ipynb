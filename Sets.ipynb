{
 "cells": [
  {
   "cell_type": "code",
   "execution_count": 24,
   "id": "25b38d6a-844b-4904-89d7-cc1d1da3512e",
   "metadata": {},
   "outputs": [
    {
     "name": "stdout",
     "output_type": "stream",
     "text": [
      "{'Mayank', 'Tamal', 'prateek', 'Rishab'}\n"
     ]
    }
   ],
   "source": [
    " # creating a set\n",
    "names = {\"Rishab\",\"Mayank\",\"Tamal\",\"prateek\"}\n",
    "print(names)\n",
    "# printing order is random"
   ]
  },
  {
   "cell_type": "code",
   "execution_count": 25,
   "id": "9c741fb3-3825-4154-a3a7-6080166940cc",
   "metadata": {},
   "outputs": [
    {
     "name": "stdout",
     "output_type": "stream",
     "text": [
      "4\n",
      "<class 'set'>\n"
     ]
    }
   ],
   "source": [
    "# length and data type\n",
    "print(len(names))\n",
    "print(type(names))"
   ]
  },
  {
   "cell_type": "code",
   "execution_count": 26,
   "id": "a971d397-8304-4366-8de2-3efca7144c21",
   "metadata": {},
   "outputs": [
    {
     "name": "stdout",
     "output_type": "stream",
     "text": [
      "Mayank\n",
      "Tamal\n",
      "prateek\n",
      "Rishab\n"
     ]
    }
   ],
   "source": [
    "# accessing items of set\n",
    "for i in names:\n",
    "    print(i)"
   ]
  },
  {
   "cell_type": "code",
   "execution_count": 27,
   "id": "2782327c-c0b5-4ccb-9eb8-a3968a24144f",
   "metadata": {},
   "outputs": [
    {
     "name": "stdout",
     "output_type": "stream",
     "text": [
      "False\n"
     ]
    }
   ],
   "source": [
    "# check if item is there in set\n",
    "if \"rishab\" in names:\n",
    "    print(True)\n",
    "else:\n",
    "    print(False)"
   ]
  },
  {
   "cell_type": "code",
   "execution_count": 28,
   "id": "b187d8ab-a387-40b0-8863-2becb6648eb7",
   "metadata": {},
   "outputs": [
    {
     "name": "stdout",
     "output_type": "stream",
     "text": [
      "True\n"
     ]
    }
   ],
   "source": [
    "if \"Rishab\" in names:\n",
    "    print(True)\n",
    "else:\n",
    "    print(False)"
   ]
  },
  {
   "cell_type": "code",
   "execution_count": 29,
   "id": "981b39b0-769e-4cbf-9e5b-c1e68c1be38f",
   "metadata": {},
   "outputs": [
    {
     "name": "stdout",
     "output_type": "stream",
     "text": [
      "{'prateek', 'Tamal', 'Ria', 'Mayank', 'Rishab'}\n"
     ]
    }
   ],
   "source": [
    "# add elements in set\n",
    "names.add(\"Ria\")\n",
    "print(names)"
   ]
  },
  {
   "cell_type": "code",
   "execution_count": 30,
   "id": "6f6f7c1b-4f30-44f1-8080-700e7dc3cdf6",
   "metadata": {},
   "outputs": [
    {
     "name": "stdout",
     "output_type": "stream",
     "text": [
      "{'prateek', 'Tamal', 'Ria', 'Mayank', 'Rishab'}\n"
     ]
    }
   ],
   "source": [
    "names.add(\"Rishab\")\n",
    "print(names)\n",
    "# Rishab is not added againg because duplicate values are not allowed in set"
   ]
  },
  {
   "cell_type": "code",
   "execution_count": 31,
   "id": "12b339e2-666d-4e4e-8f94-ded9933848e7",
   "metadata": {},
   "outputs": [
    {
     "name": "stdout",
     "output_type": "stream",
     "text": [
      "{1, 2, 3}\n",
      "{'prateek', 1, 2, 3, 'Tamal', 'Ria', 'Mayank', 'Rishab'}\n"
     ]
    }
   ],
   "source": [
    "# to another sequence in a set\n",
    "a = { 1,2,3}\n",
    "names.update(a)\n",
    "print(a)\n",
    "print(names)"
   ]
  },
  {
   "cell_type": "code",
   "execution_count": 32,
   "id": "932ca86a-3080-4351-89d4-71f50167764f",
   "metadata": {},
   "outputs": [
    {
     "name": "stdout",
     "output_type": "stream",
     "text": [
      "['rahul', 'ram']\n",
      "{'prateek', 1, 2, 3, 'Tamal', 'rahul', 'Ria', 'Mayank', 'ram', 'Rishab'}\n"
     ]
    }
   ],
   "source": [
    "# add a list to names\n",
    "x=[\"rahul\",\"ram\"]\n",
    "names.update(x)\n",
    "print(x)\n",
    "print(names)"
   ]
  },
  {
   "cell_type": "code",
   "execution_count": 33,
   "id": "7fa713db-8b3e-4d3b-96e7-78f21e4258d6",
   "metadata": {},
   "outputs": [
    {
     "name": "stdout",
     "output_type": "stream",
     "text": [
      "{'prateek', 1, 2, 3, 'rahul', 'Ria', 'Mayank', 'ram', 'Rishab'}\n"
     ]
    }
   ],
   "source": [
    "# to remove an item\n",
    "names.remove(\"Tamal\")\n",
    "print(names)"
   ]
  },
  {
   "cell_type": "code",
   "execution_count": 36,
   "id": "ebc98092-0764-4b1f-986d-38a58282c451",
   "metadata": {},
   "outputs": [
    {
     "name": "stdout",
     "output_type": "stream",
     "text": [
      "{1, 2, 3, 4, 5, 6} {6, 7, 8, 9, 10}\n",
      "{1, 2, 3, 4, 5, 6, 7, 8, 9, 10}\n"
     ]
    }
   ],
   "source": [
    "# to join 2 sets\n",
    "set1 = {1,2,3,4,5,6}\n",
    "set2 = {7,8,9,10,6}\n",
    "print(set1,set2)\n",
    "set3 = set1.union(set2)\n",
    "print(set3)"
   ]
  },
  {
   "cell_type": "code",
   "execution_count": 43,
   "id": "73e62693-5cc1-4286-af17-f33206870b4f",
   "metadata": {},
   "outputs": [
    {
     "name": "stdout",
     "output_type": "stream",
     "text": [
      "{1, 2, 3, 4, 5, 6}\n",
      "{6, 7, 8, 9, 10}\n",
      "{6}\n",
      "{1, 2, 3, 4, 5, 7, 8, 9, 10}\n"
     ]
    }
   ],
   "source": [
    "# some operation in sets\n",
    "a = set1.copy()\n",
    "print(a)\n",
    "b = set2.copy()\n",
    "print(b)\n",
    "a.intersection_update(b)\n",
    "print(a)\n",
    "a = set1.copy()\n",
    "a.symmetric_difference_update(b)\n",
    "print(a)"
   ]
  }
 ],
 "metadata": {
  "kernelspec": {
   "display_name": "Python 3 (ipykernel)",
   "language": "python",
   "name": "python3"
  },
  "language_info": {
   "codemirror_mode": {
    "name": "ipython",
    "version": 3
   },
   "file_extension": ".py",
   "mimetype": "text/x-python",
   "name": "python",
   "nbconvert_exporter": "python",
   "pygments_lexer": "ipython3",
   "version": "3.12.3"
  }
 },
 "nbformat": 4,
 "nbformat_minor": 5
}
