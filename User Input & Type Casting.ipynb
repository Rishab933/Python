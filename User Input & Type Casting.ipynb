{
 "cells": [
  {
   "cell_type": "code",
   "execution_count": 3,
   "id": "cc987697-2eee-46e9-a998-98002adc3504",
   "metadata": {},
   "outputs": [
    {
     "name": "stdin",
     "output_type": "stream",
     "text": [
      "Enter your name:  Rishab\n"
     ]
    }
   ],
   "source": [
    "# How to take user input\n",
    "# \"input\" keyword is used to get the input from the user\n",
    "# it take any input in string only therefore we have to typecast\n",
    "name = input(\"Enter your name: \")"
   ]
  },
  {
   "cell_type": "code",
   "execution_count": 8,
   "id": "1983b506-668a-4b87-9d4e-dd1507e8f288",
   "metadata": {},
   "outputs": [
    {
     "name": "stdout",
     "output_type": "stream",
     "text": [
      "My name is Rishab\n"
     ]
    }
   ],
   "source": [
    "print(\"My name is \"+name)"
   ]
  },
  {
   "cell_type": "code",
   "execution_count": 13,
   "id": "b2c63048-c6fe-4e2f-8f7e-e645a6c86a34",
   "metadata": {},
   "outputs": [
    {
     "name": "stdin",
     "output_type": "stream",
     "text": [
      "Enter your roll number 3097\n"
     ]
    }
   ],
   "source": [
    "# see the roll number was taken as a string input\n",
    "Roll_number = input(\"Enter your roll number\")"
   ]
  },
  {
   "cell_type": "code",
   "execution_count": 14,
   "id": "0d97db42-0203-4e6b-b56d-3d4cf084ea5a",
   "metadata": {},
   "outputs": [
    {
     "name": "stdout",
     "output_type": "stream",
     "text": [
      "<class 'str'>\n"
     ]
    }
   ],
   "source": [
    "print(type(Roll_number))"
   ]
  },
  {
   "cell_type": "code",
   "execution_count": 16,
   "id": "326f75a1-13ca-48ea-9819-877603304c14",
   "metadata": {},
   "outputs": [
    {
     "name": "stdin",
     "output_type": "stream",
     "text": [
      "Enter you roll number 3097\n"
     ]
    }
   ],
   "source": [
    "# Type casting\n",
    "Roll_number = int(input(\"Enter you roll number\"))"
   ]
  },
  {
   "cell_type": "code",
   "execution_count": 17,
   "id": "24cbfeca-c044-43ee-a19a-420e66a32343",
   "metadata": {},
   "outputs": [
    {
     "name": "stdout",
     "output_type": "stream",
     "text": [
      "<class 'int'>\n"
     ]
    }
   ],
   "source": [
    "print(type(Roll_number))"
   ]
  },
  {
   "cell_type": "code",
   "execution_count": null,
   "id": "ec22773a-0983-4031-b6cf-b2ad00adfb42",
   "metadata": {},
   "outputs": [],
   "source": []
  }
 ],
 "metadata": {
  "kernelspec": {
   "display_name": "Python 3 (ipykernel)",
   "language": "python",
   "name": "python3"
  },
  "language_info": {
   "codemirror_mode": {
    "name": "ipython",
    "version": 3
   },
   "file_extension": ".py",
   "mimetype": "text/x-python",
   "name": "python",
   "nbconvert_exporter": "python",
   "pygments_lexer": "ipython3",
   "version": "3.12.3"
  }
 },
 "nbformat": 4,
 "nbformat_minor": 5
}
