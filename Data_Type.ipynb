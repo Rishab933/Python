{
 "cells": [
  {
   "cell_type": "code",
   "execution_count": 1,
   "id": "0bca9835-602a-436d-95d2-d3d4b840f390",
   "metadata": {},
   "outputs": [],
   "source": [
    "# Data types\n",
    "\n",
    "# Numeric data type :\n",
    "# int\n",
    "# float\n",
    "# complex --> 1+2j or 45+5j\n",
    "\n",
    "\n",
    "# Text data type : \n",
    "# String--> '' or \"\"\n",
    "\n",
    "# Boolean data type :\n",
    "# True\n",
    "# False\n",
    "\n",
    "# Sequence data type :\n",
    "# list [1,2,3] or [ rishab, mayank,tamal]\n",
    "# it has unique and modifiable data \n",
    "# tuple (1,2,3)\n",
    "# tuple can have duplicate values and are not modifiable\n",
    "\n",
    "# Mapping data type :\n",
    "# Dictionary data type\n",
    "# It works on Key-Value pairs \n",
    "# example: student = {\n",
    "#             \"name\":rishab\n",
    "#             \"Roll_number\":3097\n",
    "#             }\n",
    "# Set data type :\n",
    "# This an unorder collection of unique items  enclosed in {}\n",
    "# example: {\"apple\",\"banana\",\"cherry\"}\n",
    "\n",
    "# None : Null\n",
    "\n",
    "# Ascii\n",
    "# A-Z --> 65-90\n",
    "# a-z --> 97-122\n",
    "# 0-9 --> 48-57\n",
    "# space --> 32"
   ]
  },
  {
   "cell_type": "code",
   "execution_count": 7,
   "id": "ebbf2191-261c-4fcd-a1db-5116ddc36287",
   "metadata": {},
   "outputs": [
    {
     "name": "stdout",
     "output_type": "stream",
     "text": [
      "97\n",
      "65\n",
      "32\n",
      "48\n"
     ]
    }
   ],
   "source": [
    "# ord() --> inbuild function to get the ascii value as return\n",
    "# it can take only one length string\n",
    "char = \"a\"\n",
    "print(ord(char))\n",
    "char = \"A\"\n",
    "print(ord(char))\n",
    "char = \" \"\n",
    "print(ord(char))\n",
    "char = \"0\"\n",
    "print(ord(char))"
   ]
  },
  {
   "cell_type": "code",
   "execution_count": 8,
   "id": "7139eca7-e19a-4262-9b84-b6e4476c4d0e",
   "metadata": {},
   "outputs": [
    {
     "name": "stdout",
     "output_type": "stream",
     "text": [
      "100\n",
      "d\n"
     ]
    }
   ],
   "source": [
    "# chr() is an inbuild function to get the charecter from the ascii value\n",
    "char = \"d\"\n",
    "x = ord(char)\n",
    "print(x)\n",
    "print(chr(x))"
   ]
  },
  {
   "cell_type": "code",
   "execution_count": null,
   "id": "4dc629f7-3678-409b-8c37-af394005af7c",
   "metadata": {},
   "outputs": [],
   "source": []
  }
 ],
 "metadata": {
  "kernelspec": {
   "display_name": "Python 3 (ipykernel)",
   "language": "python",
   "name": "python3"
  },
  "language_info": {
   "codemirror_mode": {
    "name": "ipython",
    "version": 3
   },
   "file_extension": ".py",
   "mimetype": "text/x-python",
   "name": "python",
   "nbconvert_exporter": "python",
   "pygments_lexer": "ipython3",
   "version": "3.12.3"
  }
 },
 "nbformat": 4,
 "nbformat_minor": 5
}
