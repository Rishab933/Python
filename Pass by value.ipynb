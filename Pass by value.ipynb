{
 "cells": [
  {
   "cell_type": "code",
   "execution_count": 1,
   "id": "4a990a26-ff3c-4af4-884d-bd6fc6f0e5b3",
   "metadata": {},
   "outputs": [
    {
     "name": "stdout",
     "output_type": "stream",
     "text": [
      "Inside the function the value of x is : 6\n",
      "outside the function the value of x is :  5\n"
     ]
    }
   ],
   "source": [
    "def add_one(x):\n",
    "    x = x+1\n",
    "    print(\"Inside the function the value of x is :\",x)\n",
    "\n",
    "x = 5\n",
    "add_one(x)\n",
    "print(\"outside the function the value of x is : \",x)"
   ]
  }
 ],
 "metadata": {
  "kernelspec": {
   "display_name": "Python 3 (ipykernel)",
   "language": "python",
   "name": "python3"
  },
  "language_info": {
   "codemirror_mode": {
    "name": "ipython",
    "version": 3
   },
   "file_extension": ".py",
   "mimetype": "text/x-python",
   "name": "python",
   "nbconvert_exporter": "python",
   "pygments_lexer": "ipython3",
   "version": "3.12.3"
  }
 },
 "nbformat": 4,
 "nbformat_minor": 5
}
