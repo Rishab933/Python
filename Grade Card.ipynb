{
 "cells": [
  {
   "cell_type": "code",
   "execution_count": 1,
   "id": "07608dfd-830a-4a56-b168-2703b867cf5e",
   "metadata": {},
   "outputs": [],
   "source": [
    "# 81-100 very good\n",
    "# 61-80 good\n",
    "# 41-60 Average\n",
    "# <= 40 Fail"
   ]
  },
  {
   "cell_type": "code",
   "execution_count": 4,
   "id": "bad6622a-5d71-4753-ba24-bf2bf4667c8f",
   "metadata": {},
   "outputs": [
    {
     "name": "stdin",
     "output_type": "stream",
     "text": [
      "Enter your marks :  63.21\n"
     ]
    },
    {
     "name": "stdout",
     "output_type": "stream",
     "text": [
      "Good\n"
     ]
    }
   ],
   "source": [
    "marks = float(input(\"Enter your marks : \"))\n",
    "if 81<=marks<=100 :\n",
    "    print(\"Very Good\")\n",
    "elif 61<=marks<=80 :\n",
    "    print(\"Good\")\n",
    "elif 41<=marks<=60 :\n",
    "    print(\"Average\")\n",
    "else :\n",
    "    print(\"Fail\")"
   ]
  },
  {
   "cell_type": "code",
   "execution_count": null,
   "id": "85d22d5f-166e-4d85-96ce-21fb77bc392c",
   "metadata": {},
   "outputs": [],
   "source": []
  }
 ],
 "metadata": {
  "kernelspec": {
   "display_name": "Python 3 (ipykernel)",
   "language": "python",
   "name": "python3"
  },
  "language_info": {
   "codemirror_mode": {
    "name": "ipython",
    "version": 3
   },
   "file_extension": ".py",
   "mimetype": "text/x-python",
   "name": "python",
   "nbconvert_exporter": "python",
   "pygments_lexer": "ipython3",
   "version": "3.12.3"
  }
 },
 "nbformat": 4,
 "nbformat_minor": 5
}
