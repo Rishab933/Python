{
 "cells": [
  {
   "cell_type": "code",
   "execution_count": 4,
   "id": "5354329a-ea96-4711-aa50-8fcbfcda1060",
   "metadata": {},
   "outputs": [
    {
     "name": "stdin",
     "output_type": "stream",
     "text": [
      "Enter the value of n :  5\n"
     ]
    },
    {
     "name": "stdout",
     "output_type": "stream",
     "text": [
      "5\n",
      "4\n",
      "3\n",
      "2\n",
      "1\n"
     ]
    }
   ],
   "source": [
    "n = int(input(\"Enter the value of n : \"))\n",
    "def prt(n):\n",
    "    if n == 0:\n",
    "        return\n",
    "    else:\n",
    "        print(n)\n",
    "        prt(n-1)\n",
    "\n",
    "prt(n)"
   ]
  },
  {
   "cell_type": "code",
   "execution_count": 5,
   "id": "197f8488-b44b-4527-b856-c03d87115ebe",
   "metadata": {},
   "outputs": [
    {
     "name": "stdin",
     "output_type": "stream",
     "text": [
      "Enter the value of n :  5\n"
     ]
    },
    {
     "name": "stdout",
     "output_type": "stream",
     "text": [
      "1\n",
      "2\n",
      "3\n",
      "4\n",
      "5\n"
     ]
    }
   ],
   "source": [
    "# printing 1 to n\n",
    "n = int(input(\"Enter the value of n : \"))\n",
    "def prt(n):\n",
    "    if n == 0:\n",
    "        return\n",
    "    else:\n",
    "        prt(n-1)\n",
    "        print(n)\n",
    "\n",
    "prt(n)"
   ]
  }
 ],
 "metadata": {
  "kernelspec": {
   "display_name": "Python 3 (ipykernel)",
   "language": "python",
   "name": "python3"
  },
  "language_info": {
   "codemirror_mode": {
    "name": "ipython",
    "version": 3
   },
   "file_extension": ".py",
   "mimetype": "text/x-python",
   "name": "python",
   "nbconvert_exporter": "python",
   "pygments_lexer": "ipython3",
   "version": "3.12.3"
  }
 },
 "nbformat": 4,
 "nbformat_minor": 5
}
