{
 "cells": [
  {
   "cell_type": "code",
   "execution_count": 1,
   "id": "8fa6ba0d-595a-4a82-897a-ed97623280b9",
   "metadata": {},
   "outputs": [
    {
     "name": "stdin",
     "output_type": "stream",
     "text": [
      "Enter the radious of the sphere:  2.5\n"
     ]
    },
    {
     "name": "stdout",
     "output_type": "stream",
     "text": [
      "The volume of the sphere is :  65.41666666666667\n"
     ]
    }
   ],
   "source": [
    "r = float(input(\"Enter the radious of the sphere: \"))\n",
    "volume = (4/3)*3.14*(r**3)\n",
    "print(\"The volume of the sphere is : \",volume)"
   ]
  }
 ],
 "metadata": {
  "kernelspec": {
   "display_name": "Python 3 (ipykernel)",
   "language": "python",
   "name": "python3"
  },
  "language_info": {
   "codemirror_mode": {
    "name": "ipython",
    "version": 3
   },
   "file_extension": ".py",
   "mimetype": "text/x-python",
   "name": "python",
   "nbconvert_exporter": "python",
   "pygments_lexer": "ipython3",
   "version": "3.12.3"
  }
 },
 "nbformat": 4,
 "nbformat_minor": 5
}
