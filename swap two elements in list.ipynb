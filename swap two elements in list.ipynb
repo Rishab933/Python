{
 "cells": [
  {
   "cell_type": "code",
   "execution_count": 1,
   "id": "387795ee-cbc5-4b2a-a617-367fc7343b8d",
   "metadata": {},
   "outputs": [
    {
     "name": "stdout",
     "output_type": "stream",
     "text": [
      "[10, 20, 30, 40, 50]\n"
     ]
    }
   ],
   "source": [
    "a = [10,20,30,40,50]\n",
    "print(a)"
   ]
  },
  {
   "cell_type": "code",
   "execution_count": 10,
   "id": "0210d1eb-0cbf-4a79-9bc3-fe38d8f5389f",
   "metadata": {},
   "outputs": [
    {
     "name": "stdin",
     "output_type": "stream",
     "text": [
      "Enter the size of the list :  5\n",
      " 10\n",
      " 20\n",
      " 30\n",
      " 40\n",
      " 50\n"
     ]
    }
   ],
   "source": [
    "# user input list\n",
    "n = int(input(\"Enter the size of the list : \"))\n",
    "a = []\n",
    "for i in range(n):\n",
    "    num = int(input())\n",
    "    a.append(num)"
   ]
  },
  {
   "cell_type": "code",
   "execution_count": 12,
   "id": "95cc811f-f953-444c-8587-8b7713603838",
   "metadata": {},
   "outputs": [
    {
     "name": "stdin",
     "output_type": "stream",
     "text": [
      "Enter the first index :  0\n",
      "Enter the second index :  4\n"
     ]
    }
   ],
   "source": [
    "x = int(input(\"Enter the first index : \"))\n",
    "y = int(input(\"Enter the second index : \"))"
   ]
  },
  {
   "cell_type": "code",
   "execution_count": 13,
   "id": "da93352d-8c2f-4499-a9c4-a21f0bae3082",
   "metadata": {},
   "outputs": [],
   "source": [
    "temp = a[x]\n",
    "a[x] = a[y]\n",
    "a[y] = temp"
   ]
  },
  {
   "cell_type": "code",
   "execution_count": 14,
   "id": "2e7c6d53-a528-4709-81e5-f5eeaf19f59f",
   "metadata": {},
   "outputs": [
    {
     "name": "stdout",
     "output_type": "stream",
     "text": [
      "[50, 20, 30, 40, 10]\n"
     ]
    }
   ],
   "source": [
    "print(a)"
   ]
  }
 ],
 "metadata": {
  "kernelspec": {
   "display_name": "Python 3 (ipykernel)",
   "language": "python",
   "name": "python3"
  },
  "language_info": {
   "codemirror_mode": {
    "name": "ipython",
    "version": 3
   },
   "file_extension": ".py",
   "mimetype": "text/x-python",
   "name": "python",
   "nbconvert_exporter": "python",
   "pygments_lexer": "ipython3",
   "version": "3.12.3"
  }
 },
 "nbformat": 4,
 "nbformat_minor": 5
}
