{
 "cells": [
  {
   "cell_type": "code",
   "execution_count": 1,
   "id": "49920cc3-a745-4621-b26f-edca62c42b11",
   "metadata": {},
   "outputs": [],
   "source": [
    "# we will be gioven some numbers n and we have to find the sum of all of them"
   ]
  },
  {
   "cell_type": "code",
   "execution_count": 3,
   "id": "bcb02df1-ef69-457d-ba26-610b3d2b20b6",
   "metadata": {},
   "outputs": [
    {
     "name": "stdin",
     "output_type": "stream",
     "text": [
      "Enter n :  4\n"
     ]
    },
    {
     "name": "stdout",
     "output_type": "stream",
     "text": [
      "sum of all numbers till n is :  10\n"
     ]
    }
   ],
   "source": [
    "n = int(input(\"Enter n : \"))\n",
    "sum = 0\n",
    "for i in range(1,n+1):\n",
    "    sum = sum + i\n",
    "print(\"sum of all numbers till n is : \",sum)"
   ]
  },
  {
   "cell_type": "code",
   "execution_count": 13,
   "id": "d6b31564-570f-4053-ad38-68605a4ccb66",
   "metadata": {},
   "outputs": [
    {
     "name": "stdout",
     "output_type": "stream",
     "text": [
      "hello\n"
     ]
    }
   ],
   "source": [
    "# creating a function to print hello\n",
    "def print_hello():\n",
    "    print(\"hello\")\n",
    "# calling a function\n",
    "print_hello()"
   ]
  },
  {
   "cell_type": "code",
   "execution_count": 10,
   "id": "ccc8c43f-d8a4-45cb-8a9a-4ed203420391",
   "metadata": {},
   "outputs": [
    {
     "name": "stdin",
     "output_type": "stream",
     "text": [
      "Enter the first number :  10\n",
      "Enter the second number :  20\n"
     ]
    },
    {
     "name": "stdout",
     "output_type": "stream",
     "text": [
      "30\n"
     ]
    }
   ],
   "source": [
    "# function to add two numbers\n",
    "a = int(input(\"Enter the first number : \"))\n",
    "b = int(input(\"Enter the second number : \"))\n",
    "def sum(x,y):\n",
    "    sum = x+y\n",
    "    return sum\n",
    "x = sum(a,b)\n",
    "print(x)"
   ]
  },
  {
   "cell_type": "code",
   "execution_count": 14,
   "id": "fe5f96d1-358e-4add-b471-427a78d7d05c",
   "metadata": {},
   "outputs": [],
   "source": [
    "# now same thing to add till n using functions"
   ]
  },
  {
   "cell_type": "code",
   "execution_count": 6,
   "id": "6c6f7f13-543f-4f15-b220-dc9c2eca9b0d",
   "metadata": {},
   "outputs": [],
   "source": [
    "# creating a function\n",
    "def sum_till_n(n):\n",
    "    s = 0\n",
    "    for i in range(1,n+1):\n",
    "        s += i\n",
    "    return s"
   ]
  },
  {
   "cell_type": "code",
   "execution_count": 8,
   "id": "f7c93ef2-2c2d-46ff-bc2b-f768d793d5ac",
   "metadata": {},
   "outputs": [
    {
     "name": "stdout",
     "output_type": "stream",
     "text": [
      "10\n",
      "55\n"
     ]
    }
   ],
   "source": [
    "# calling that function\n",
    "x = sum_till_n(n)\n",
    "print(x)\n",
    "a = 10\n",
    "x = sum_till_n(a)\n",
    "print(x)"
   ]
  },
  {
   "cell_type": "code",
   "execution_count": 18,
   "id": "78659a9a-7a3c-42e8-a5d6-bf7fc98c9bdb",
   "metadata": {},
   "outputs": [
    {
     "name": "stdout",
     "output_type": "stream",
     "text": [
      "n1 =  10\n",
      "n2 =  20\n",
      "30\n",
      "n1 =  20\n",
      "n2 =  10\n",
      "30\n"
     ]
    }
   ],
   "source": [
    "# key word arguments\n",
    "n1 = 10\n",
    "n2 = 20\n",
    "def sum(n1,n2):\n",
    "    print(\"n1 = \",n1)\n",
    "    print(\"n2 = \",n2)\n",
    "    sum = n1+n2\n",
    "    return sum\n",
    "x = sum(n,m)\n",
    "print(x)\n",
    "y = sum(n1=20,n2=10)\n",
    "print(y)"
   ]
  },
  {
   "cell_type": "code",
   "execution_count": 20,
   "id": "fc5407e1-1b52-41c8-9166-93c4b7584a93",
   "metadata": {},
   "outputs": [
    {
     "name": "stdout",
     "output_type": "stream",
     "text": [
      "1\n"
     ]
    }
   ],
   "source": [
    "# default arguments\n",
    "def sum(x=0,y=1):\n",
    "    sum = x+y\n",
    "    return sum\n",
    "x = sum()\n",
    "print(x)"
   ]
  },
  {
   "cell_type": "code",
   "execution_count": 21,
   "id": "041dc0c9-90f9-4d0c-8388-2d7084924ed6",
   "metadata": {},
   "outputs": [
    {
     "name": "stdout",
     "output_type": "stream",
     "text": [
      "45\n"
     ]
    }
   ],
   "source": [
    "# variable length arguments / arbitary arguments\n",
    "def AddallNumbers(*args):\n",
    "    sum =0\n",
    "    for i in args:\n",
    "        sum +=i\n",
    "    return sum\n",
    "output = AddallNumbers(2,3,4,5,6,1,7,8,9)\n",
    "print(output)"
   ]
  }
 ],
 "metadata": {
  "kernelspec": {
   "display_name": "Python 3 (ipykernel)",
   "language": "python",
   "name": "python3"
  },
  "language_info": {
   "codemirror_mode": {
    "name": "ipython",
    "version": 3
   },
   "file_extension": ".py",
   "mimetype": "text/x-python",
   "name": "python",
   "nbconvert_exporter": "python",
   "pygments_lexer": "ipython3",
   "version": "3.12.3"
  }
 },
 "nbformat": 4,
 "nbformat_minor": 5
}
