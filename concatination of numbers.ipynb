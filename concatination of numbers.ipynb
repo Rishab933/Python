{
 "cells": [
  {
   "cell_type": "code",
   "execution_count": 4,
   "id": "f1a8844e-43fd-4865-af23-070e6904779e",
   "metadata": {},
   "outputs": [
    {
     "name": "stdout",
     "output_type": "stream",
     "text": [
      "235\n",
      "<class 'int'>\n"
     ]
    }
   ],
   "source": [
    "a = 2\n",
    "b = 3\n",
    "c = 5\n",
    "a_str = str(a)\n",
    "b_str = str(b)\n",
    "c_str = str(c)\n",
    "final_string = a_str+b_str+c_str\n",
    "final_int = int(final_string)\n",
    "print(final_int)\n",
    "print(type(final_int))"
   ]
  },
  {
   "cell_type": "code",
   "execution_count": null,
   "id": "adb16253-540c-439f-bd60-45454a3721ea",
   "metadata": {},
   "outputs": [],
   "source": []
  }
 ],
 "metadata": {
  "kernelspec": {
   "display_name": "Python 3 (ipykernel)",
   "language": "python",
   "name": "python3"
  },
  "language_info": {
   "codemirror_mode": {
    "name": "ipython",
    "version": 3
   },
   "file_extension": ".py",
   "mimetype": "text/x-python",
   "name": "python",
   "nbconvert_exporter": "python",
   "pygments_lexer": "ipython3",
   "version": "3.12.3"
  }
 },
 "nbformat": 4,
 "nbformat_minor": 5
}
