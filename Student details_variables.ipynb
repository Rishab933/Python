{
 "cells": [
  {
   "cell_type": "code",
   "execution_count": 1,
   "id": "87a890b2-97d4-48d9-a78e-bd7160adf9d6",
   "metadata": {},
   "outputs": [
    {
     "name": "stdout",
     "output_type": "stream",
     "text": [
      "Rishab\n",
      "3097\n",
      "91\n",
      "True\n"
     ]
    }
   ],
   "source": [
    "name = \"Rishab\"\n",
    "Roll_number = 3097\n",
    "percentage = 91\n",
    "is_student = True\n",
    "print(name)\n",
    "print(Roll_number)\n",
    "print(percentage)\n",
    "print(is_student)"
   ]
  },
  {
   "cell_type": "code",
   "execution_count": 2,
   "id": "636dd113-e921-4adb-b55c-71eb128e127f",
   "metadata": {},
   "outputs": [
    {
     "name": "stdout",
     "output_type": "stream",
     "text": [
      "Rishab 3097 91 True\n"
     ]
    }
   ],
   "source": [
    "print(name, Roll_number, percentage, is_student)"
   ]
  },
  {
   "cell_type": "code",
   "execution_count": 3,
   "id": "513db0c1-4bcc-4f87-9616-05e7ae0eddac",
   "metadata": {},
   "outputs": [
    {
     "name": "stdout",
     "output_type": "stream",
     "text": [
      "Rishab 3097 87 True\n"
     ]
    }
   ],
   "source": [
    "# updatint a nariable \n",
    "percentage = 87\n",
    "print(name, Roll_number, percentage, is_student)"
   ]
  },
  {
   "cell_type": "code",
   "execution_count": 4,
   "id": "e3983b40-1fd8-4d99-b1da-af7c0873ade2",
   "metadata": {},
   "outputs": [
    {
     "name": "stdout",
     "output_type": "stream",
     "text": [
      "<class 'str'> <class 'int'> <class 'int'> <class 'bool'>\n"
     ]
    }
   ],
   "source": [
    "# To get the type of variable as areturn type\n",
    "print(type(name), type(Roll_number), type(percentage), type(is_student))"
   ]
  },
  {
   "cell_type": "code",
   "execution_count": 5,
   "id": "6a3b3088-7724-4b5c-aade-3712fad33aac",
   "metadata": {},
   "outputs": [
    {
     "name": "stdout",
     "output_type": "stream",
     "text": [
      "My name is Rishab\n"
     ]
    }
   ],
   "source": [
    "print(\"My name is \" + name)"
   ]
  },
  {
   "cell_type": "code",
   "execution_count": 7,
   "id": "90c6c504-694a-4f53-9c16-1369ff8c092e",
   "metadata": {},
   "outputs": [
    {
     "ename": "TypeError",
     "evalue": "can only concatenate str (not \"int\") to str",
     "output_type": "error",
     "traceback": [
      "\u001b[1;31m---------------------------------------------------------------------------\u001b[0m",
      "\u001b[1;31mTypeError\u001b[0m                                 Traceback (most recent call last)",
      "Cell \u001b[1;32mIn[7], line 1\u001b[0m\n\u001b[1;32m----> 1\u001b[0m \u001b[38;5;28mprint\u001b[39m(\u001b[38;5;124;43m\"\u001b[39;49m\u001b[38;5;124;43mMy name is \u001b[39;49m\u001b[38;5;124;43m\"\u001b[39;49m\u001b[43m \u001b[49m\u001b[38;5;241;43m+\u001b[39;49m\u001b[43m \u001b[49m\u001b[43mname\u001b[49m\u001b[43m \u001b[49m\u001b[38;5;241;43m+\u001b[39;49m\u001b[43m \u001b[49m\u001b[38;5;124;43m\"\u001b[39;49m\u001b[38;5;124;43m and my roll number is \u001b[39;49m\u001b[38;5;124;43m\"\u001b[39;49m\u001b[43m \u001b[49m\u001b[38;5;241;43m+\u001b[39;49m\u001b[43m \u001b[49m\u001b[43mRoll_number\u001b[49m)\n",
      "\u001b[1;31mTypeError\u001b[0m: can only concatenate str (not \"int\") to str"
     ]
    }
   ],
   "source": [
    "print(\"My name is \" + name + \" and my roll number is \" + Roll_number)"
   ]
  },
  {
   "cell_type": "code",
   "execution_count": 8,
   "id": "0a544b8d-89c0-40a3-952b-430b310641da",
   "metadata": {},
   "outputs": [],
   "source": [
    "# Diff type of variable cant be concatinated\n",
    "# and my roll number is --> string \n",
    "# where as roll_number --> int \n",
    "# therefore cant be concatinated"
   ]
  },
  {
   "cell_type": "code",
   "execution_count": 10,
   "id": "b9848967-4cae-40ef-9a5c-54fe3f48ee1a",
   "metadata": {},
   "outputs": [
    {
     "name": "stdout",
     "output_type": "stream",
     "text": [
      "My name is Rishab and my roll number is  3097 and my percentage is  87  and i am a student True\n"
     ]
    }
   ],
   "source": [
    "# Therefore we will use a coma instead of +\n",
    "print(\"My name is \" + name + \" and my roll number is \",Roll_number,\"and my percentage is \",percentage,\" and i am a student\",is_student)"
   ]
  },
  {
   "cell_type": "code",
   "execution_count": 11,
   "id": "b7aee55c-fc17-4f1b-8be4-e13be76b9dc7",
   "metadata": {},
   "outputs": [
    {
     "name": "stdout",
     "output_type": "stream",
     "text": [
      "My percent has changed to  86\n"
     ]
    }
   ],
   "source": [
    "# printing expressions\n",
    "print(\"My percent has changed to \",percentage-1)"
   ]
  },
  {
   "cell_type": "code",
   "execution_count": 15,
   "id": "ec626e62-e76f-4025-899b-1c8658ec83eb",
   "metadata": {},
   "outputs": [
    {
     "name": "stdout",
     "output_type": "stream",
     "text": [
      "Rishab-3097-87-True\n",
      "Rishab/3097/87/True\n"
     ]
    }
   ],
   "source": [
    "# print with seperator\n",
    "# sep is a variable which stores the seperator and seperator can be anything\n",
    "print(name,Roll_number,percentage,is_student,sep = \"-\")\n",
    "print(name,Roll_number,percentage,is_student,sep = \"/\")"
   ]
  },
  {
   "cell_type": "code",
   "execution_count": null,
   "id": "9ac6cf2b-9d69-4dd9-816f-384132d74bba",
   "metadata": {},
   "outputs": [],
   "source": []
  }
 ],
 "metadata": {
  "kernelspec": {
   "display_name": "Python 3 (ipykernel)",
   "language": "python",
   "name": "python3"
  },
  "language_info": {
   "codemirror_mode": {
    "name": "ipython",
    "version": 3
   },
   "file_extension": ".py",
   "mimetype": "text/x-python",
   "name": "python",
   "nbconvert_exporter": "python",
   "pygments_lexer": "ipython3",
   "version": "3.12.3"
  }
 },
 "nbformat": 4,
 "nbformat_minor": 5
}
