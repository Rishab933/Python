{
 "cells": [
  {
   "cell_type": "code",
   "execution_count": 8,
   "id": "062d253b-910f-44c2-80a3-b9197b9850ec",
   "metadata": {},
   "outputs": [
    {
     "name": "stdout",
     "output_type": "stream",
     "text": [
      "30\n"
     ]
    }
   ],
   "source": [
    "# nested function\n",
    "def outer_function():\n",
    "    a = 10\n",
    "    def inner_function():\n",
    "        b = 20 \n",
    "        result = a + b\n",
    "        return result\n",
    "    return inner_function()\n",
    "\n",
    "output = outer_function()\n",
    "print(output)\n"
   ]
  }
 ],
 "metadata": {
  "kernelspec": {
   "display_name": "Python 3 (ipykernel)",
   "language": "python",
   "name": "python3"
  },
  "language_info": {
   "codemirror_mode": {
    "name": "ipython",
    "version": 3
   },
   "file_extension": ".py",
   "mimetype": "text/x-python",
   "name": "python",
   "nbconvert_exporter": "python",
   "pygments_lexer": "ipython3",
   "version": "3.12.3"
  }
 },
 "nbformat": 4,
 "nbformat_minor": 5
}
