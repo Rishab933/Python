{
 "cells": [
  {
   "cell_type": "code",
   "execution_count": 1,
   "id": "d75305ac-93f2-4766-b597-ea6ae0f382dd",
   "metadata": {},
   "outputs": [],
   "source": [
    "# both subject 80+ then A grade\n",
    "# one subject 80+ then B grade\n",
    "# none of the subject 80+ then C grade"
   ]
  },
  {
   "cell_type": "code",
   "execution_count": 6,
   "id": "a5f51d90-26dc-4d65-a925-ee2a85209c56",
   "metadata": {},
   "outputs": [
    {
     "name": "stdin",
     "output_type": "stream",
     "text": [
      "Enter your english marks :  60\n",
      "Enter your maths marks :  62\n"
     ]
    },
    {
     "name": "stdout",
     "output_type": "stream",
     "text": [
      "Grade : C\n"
     ]
    }
   ],
   "source": [
    "English = float(input(\"Enter your english marks : \"))\n",
    "Maths = float (input(\"Enter your maths marks : \"))\n",
    "if English>80 and Maths>80 :\n",
    "    print(\"Grade : A\")\n",
    "elif English>80 or Maths>80 :\n",
    "    print(\"Grade : B\")\n",
    "else :\n",
    "    print(\"Grade : C\")"
   ]
  },
  {
   "cell_type": "code",
   "execution_count": null,
   "id": "5d3d3978-abf8-4b99-a7ea-268856a52119",
   "metadata": {},
   "outputs": [],
   "source": []
  }
 ],
 "metadata": {
  "kernelspec": {
   "display_name": "Python 3 (ipykernel)",
   "language": "python",
   "name": "python3"
  },
  "language_info": {
   "codemirror_mode": {
    "name": "ipython",
    "version": 3
   },
   "file_extension": ".py",
   "mimetype": "text/x-python",
   "name": "python",
   "nbconvert_exporter": "python",
   "pygments_lexer": "ipython3",
   "version": "3.12.3"
  }
 },
 "nbformat": 4,
 "nbformat_minor": 5
}
