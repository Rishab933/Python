{
 "cells": [
  {
   "cell_type": "code",
   "execution_count": 12,
   "id": "557dced4-44d7-4cce-95c5-72aa6058a1d7",
   "metadata": {},
   "outputs": [
    {
     "name": "stdout",
     "output_type": "stream",
     "text": [
      "{'Rishab': 6290125476, 'Dad': 9339065333, 'Mom': 9875502983, 'Mayank': 9163034286}\n",
      "<class 'dict'>\n",
      "4\n"
     ]
    }
   ],
   "source": [
    "# creating a dictionary\n",
    "phones = {\n",
    "     \"Rishab\":6290125476,\n",
    "     \"Dad\":9339065333,\n",
    "     \"Mom\":9875502983,\n",
    "     \"Mayank\":9163034286}\n",
    "print(phones)\n",
    "print(type(phones))\n",
    "print(len(phones))"
   ]
  },
  {
   "cell_type": "code",
   "execution_count": 13,
   "id": "7ecac056-f45f-477d-8f12-f7b2eb549712",
   "metadata": {},
   "outputs": [
    {
     "name": "stdout",
     "output_type": "stream",
     "text": [
      "{'Rishab': [6290125476, 8100230478], 'Dad': 9339065333, 'Mom': 9875502983, 'Mayank': 9163034286}\n",
      "<class 'dict'>\n",
      "4\n"
     ]
    }
   ],
   "source": [
    "# 2 numbers for Rishab stored in a list\n",
    "phones = {\n",
    "     \"Rishab\":[6290125476,8100230478],\n",
    "     \"Dad\":9339065333,\n",
    "     \"Mom\":9875502983,\n",
    "     \"Mayank\":9163034286}\n",
    "print(phones)\n",
    "print(type(phones))\n",
    "print(len(phones))"
   ]
  },
  {
   "cell_type": "code",
   "execution_count": 14,
   "id": "7249c1bf-42cf-4c93-bc87-6e816b9d8fed",
   "metadata": {},
   "outputs": [
    {
     "name": "stdout",
     "output_type": "stream",
     "text": [
      "[6290125476, 8100230478]\n",
      "9339065333\n"
     ]
    }
   ],
   "source": [
    "# accessing the items of dictionary\n",
    "print(phones[\"Rishab\"])\n",
    "print(phones.get(\"Dad\")) "
   ]
  },
  {
   "cell_type": "code",
   "execution_count": 15,
   "id": "7b2e804f-026d-4f83-976e-dc8ba5ca5282",
   "metadata": {},
   "outputs": [
    {
     "name": "stdout",
     "output_type": "stream",
     "text": [
      "dict_keys(['Rishab', 'Dad', 'Mom', 'Mayank'])\n"
     ]
    }
   ],
   "source": [
    "# to print all of the keys\n",
    "print(phones.keys())"
   ]
  },
  {
   "cell_type": "code",
   "execution_count": 16,
   "id": "21bf0f6a-abd1-4327-830b-6f5d94334062",
   "metadata": {},
   "outputs": [
    {
     "name": "stdout",
     "output_type": "stream",
     "text": [
      "{'Rishab': [6290125476, 8100230478], 'Dad': 9339165333, 'Mom': 9875502983, 'Mayank': 9163034286}\n"
     ]
    }
   ],
   "source": [
    "# to update an item in dictionary\n",
    "phones[\"Dad\"]=9339165333\n",
    "print(phones)"
   ]
  },
  {
   "cell_type": "code",
   "execution_count": 17,
   "id": "3613d7ef-45b2-4f29-8377-80badf5f4da1",
   "metadata": {},
   "outputs": [
    {
     "name": "stdout",
     "output_type": "stream",
     "text": [
      "{'Rishab': [6290125476, 8100230478], 'Dad': 9339165333, 'Mom': 9875502983, 'Mayank': 9163034286, 'tamal': 646546461}\n"
     ]
    }
   ],
   "source": [
    "# to add an item in dictionary\n",
    "phones[\"tamal\"]=646546461\n",
    "print(phones)"
   ]
  },
  {
   "cell_type": "code",
   "execution_count": 18,
   "id": "083cc06a-66b2-4b79-a3bf-682a800dc30c",
   "metadata": {},
   "outputs": [
    {
     "name": "stdout",
     "output_type": "stream",
     "text": [
      "{'Rishab': [6290125476, 8100230478], 'Dad': 9339165333, 'Mom': 9875502983, 'Mayank': 9163034286, 'tamal': 646546461, 'prateek': 1234567890}\n"
     ]
    }
   ],
   "source": [
    "# to add another dictionary to the existing dictionary\n",
    "m_p={\n",
    "    \"prateek\":1234567890\n",
    "}\n",
    "phones.update(m_p)\n",
    "print(phones)"
   ]
  },
  {
   "cell_type": "code",
   "execution_count": 19,
   "id": "b7daa95d-7741-41a8-83bc-354a587cfb1d",
   "metadata": {},
   "outputs": [
    {
     "name": "stdout",
     "output_type": "stream",
     "text": [
      "{'Rishab': [6290125476, 8100230478], 'Dad': 9339165333, 'Mom': 9875502983, 'Mayank': 9163034286, 'tamal': 646546461}\n"
     ]
    }
   ],
   "source": [
    "# to remove elements from adictionary\n",
    "phones.pop(\"prateek\")\n",
    "print(phones)"
   ]
  },
  {
   "cell_type": "code",
   "execution_count": 20,
   "id": "c14e395e-cbab-43e0-b280-1d8ca3308621",
   "metadata": {},
   "outputs": [],
   "source": [
    "# this will empty the dictionary\n",
    "#phones.clear()\n",
    "#print(phones)"
   ]
  },
  {
   "cell_type": "code",
   "execution_count": 21,
   "id": "f71fa9a6-b15e-4114-a300-2b657130d705",
   "metadata": {},
   "outputs": [
    {
     "name": "stdout",
     "output_type": "stream",
     "text": [
      "Rishab\n",
      "Dad\n",
      "Mom\n",
      "Mayank\n",
      "tamal\n",
      "[6290125476, 8100230478]\n",
      "9339165333\n",
      "9875502983\n",
      "9163034286\n",
      "646546461\n"
     ]
    }
   ],
   "source": [
    "for x in phones:\n",
    "    print(x)\n",
    "for x in phones:\n",
    "    print(phones[x])"
   ]
  },
  {
   "cell_type": "code",
   "execution_count": 23,
   "id": "3ab1a5c7-bc59-4343-955a-c6cf0f1c2d44",
   "metadata": {},
   "outputs": [
    {
     "name": "stdout",
     "output_type": "stream",
     "text": [
      "('Rishab', [6290125476, 8100230478])\n",
      "('Dad', 9339165333)\n",
      "('Mom', 9875502983)\n",
      "('Mayank', 9163034286)\n",
      "('tamal', 646546461)\n"
     ]
    }
   ],
   "source": [
    "for x in phones.items():\n",
    "    print(x)"
   ]
  },
  {
   "cell_type": "code",
   "execution_count": 24,
   "id": "21c98b51-3fac-4a15-885f-f68b30ab4642",
   "metadata": {},
   "outputs": [
    {
     "name": "stdout",
     "output_type": "stream",
     "text": [
      "Rishab [6290125476, 8100230478]\n",
      "Dad 9339165333\n",
      "Mom 9875502983\n",
      "Mayank 9163034286\n",
      "tamal 646546461\n"
     ]
    }
   ],
   "source": [
    "for x,y in phones.items():\n",
    "    print(x,y)"
   ]
  },
  {
   "cell_type": "code",
   "execution_count": 26,
   "id": "99951f11-b7f1-4e4a-aa48-dd4d17817c33",
   "metadata": {},
   "outputs": [
    {
     "name": "stdout",
     "output_type": "stream",
     "text": [
      "{'area1': {'a': 0, 'b': 1, 'c': 2}, 'area2': {'x': 0, 'y': 11, 'z': 22}}\n",
      "<class 'dict'>\n",
      "2\n"
     ]
    }
   ],
   "source": [
    "# nested dictionary\n",
    "phone = {\n",
    "    \"area1\":{\n",
    "        \"a\":0,\n",
    "        \"b\":1,\n",
    "        \"c\":2},\n",
    "    \"area2\":{\n",
    "        \"x\":00,\n",
    "        \"y\":11,\n",
    "        \"z\":22}\n",
    "}\n",
    "print(phone)\n",
    "print(type(phone))\n",
    "print(len(phone))"
   ]
  },
  {
   "cell_type": "code",
   "execution_count": 28,
   "id": "2547b3ff-9de3-448d-b4ed-a579a4016087",
   "metadata": {},
   "outputs": [
    {
     "name": "stdout",
     "output_type": "stream",
     "text": [
      "{'a': 0, 'b': 1, 'c': 2}\n"
     ]
    }
   ],
   "source": [
    "print(phone[\"area1\"])"
   ]
  },
  {
   "cell_type": "code",
   "execution_count": 32,
   "id": "baedba2e-a0c4-45d6-8448-7c5457a3854b",
   "metadata": {},
   "outputs": [
    {
     "name": "stdout",
     "output_type": "stream",
     "text": [
      "0\n"
     ]
    }
   ],
   "source": [
    "print(phone[\"area1\"][\"a\"])"
   ]
  }
 ],
 "metadata": {
  "kernelspec": {
   "display_name": "Python 3 (ipykernel)",
   "language": "python",
   "name": "python3"
  },
  "language_info": {
   "codemirror_mode": {
    "name": "ipython",
    "version": 3
   },
   "file_extension": ".py",
   "mimetype": "text/x-python",
   "name": "python",
   "nbconvert_exporter": "python",
   "pygments_lexer": "ipython3",
   "version": "3.12.3"
  }
 },
 "nbformat": 4,
 "nbformat_minor": 5
}
