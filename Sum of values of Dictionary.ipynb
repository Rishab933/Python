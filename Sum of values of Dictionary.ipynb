{
 "cells": [
  {
   "cell_type": "code",
   "execution_count": 2,
   "id": "04ff8a1b-8ea7-44d5-9239-fbe19a2b4195",
   "metadata": {},
   "outputs": [
    {
     "name": "stdout",
     "output_type": "stream",
     "text": [
      "{'a': 100, 'b': 200, 'c': 300}\n",
      "600\n"
     ]
    }
   ],
   "source": [
    "Dic1 = {\n",
    "    \"a\":100,\n",
    "    \"b\":200,\n",
    "    \"c\":300}\n",
    "print(Dic1)\n",
    "sum1 = 0\n",
    "for x in Dic1:\n",
    "    sum1 = sum1 + Dic1[x]\n",
    "print(sum1)"
   ]
  },
  {
   "cell_type": "code",
   "execution_count": 3,
   "id": "5150020f-a322-4236-9450-fdb863e65ce8",
   "metadata": {},
   "outputs": [
    {
     "name": "stdout",
     "output_type": "stream",
     "text": [
      "88\n"
     ]
    }
   ],
   "source": [
    "sum2 = 0\n",
    "Dic2 = {\n",
    "    \"x\":25,\n",
    "    \"y\":18,\n",
    "    \"z\":45}\n",
    "for x in Dic2:\n",
    "    sum2 = sum2+Dic2[x]\n",
    "print(sum2)"
   ]
  },
  {
   "cell_type": "code",
   "execution_count": 4,
   "id": "2e29e37f-7b2b-48a1-8e90-1bf98cf65052",
   "metadata": {},
   "outputs": [
    {
     "name": "stdout",
     "output_type": "stream",
     "text": [
      "600\n"
     ]
    }
   ],
   "source": [
    "total_sum = sum(Dic1.values())\n",
    "print(total_sum)"
   ]
  }
 ],
 "metadata": {
  "kernelspec": {
   "display_name": "Python 3 (ipykernel)",
   "language": "python",
   "name": "python3"
  },
  "language_info": {
   "codemirror_mode": {
    "name": "ipython",
    "version": 3
   },
   "file_extension": ".py",
   "mimetype": "text/x-python",
   "name": "python",
   "nbconvert_exporter": "python",
   "pygments_lexer": "ipython3",
   "version": "3.12.3"
  }
 },
 "nbformat": 4,
 "nbformat_minor": 5
}
