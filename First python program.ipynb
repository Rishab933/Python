{
 "cells": [
  {
   "cell_type": "code",
   "execution_count": 3,
   "id": "6465e5ae-0672-45b5-9605-7c227a3b3b8b",
   "metadata": {},
   "outputs": [
    {
     "name": "stdout",
     "output_type": "stream",
     "text": [
      "Hello world, this is rishab !!\n"
     ]
    }
   ],
   "source": [
    "print(\"Hello world, this is rishab !!\")"
   ]
  },
  {
   "cell_type": "code",
   "execution_count": 4,
   "id": "777d67f1-30bd-4e59-86be-afe07687bee4",
   "metadata": {},
   "outputs": [
    {
     "name": "stdout",
     "output_type": "stream",
     "text": [
      "Hello,\n",
      "World\n"
     ]
    }
   ],
   "source": [
    "print(\"Hello,\\nWorld\")"
   ]
  },
  {
   "cell_type": "code",
   "execution_count": 11,
   "id": "01ac7dfc-797d-46a7-839e-2a0155aeabdc",
   "metadata": {},
   "outputs": [
    {
     "data": {
      "text/plain": [
       "'hello world\\nthis is Rishab'"
      ]
     },
     "execution_count": 11,
     "metadata": {},
     "output_type": "execute_result"
    }
   ],
   "source": [
    "# For comments this '#' is used.\n",
    "# For multi line comment ''' this is used \n",
    "'''hello world\n",
    "this is Rishab'''\n",
    "# ctrl + / --> for multi line comments"
   ]
  },
  {
   "cell_type": "code",
   "execution_count": 12,
   "id": "ad2e2040-e07c-4f63-b3d8-6acb910635ba",
   "metadata": {},
   "outputs": [],
   "source": [
    "# python CLI --> commond Line Interface of python \n",
    "# type python3 on the terminal to activate the REPL --> Read Evaluate Print Loop\n",
    "# here we can run all the python comands in a loop\n",
    "# for exit the REPL\n",
    "# ctrl + D\n",
    "# or exit()"
   ]
  },
  {
   "cell_type": "code",
   "execution_count": null,
   "id": "bf75f195-0d54-4c3d-9a2d-4b601bbc6580",
   "metadata": {},
   "outputs": [],
   "source": []
  }
 ],
 "metadata": {
  "kernelspec": {
   "display_name": "Python 3 (ipykernel)",
   "language": "python",
   "name": "python3"
  },
  "language_info": {
   "codemirror_mode": {
    "name": "ipython",
    "version": 3
   },
   "file_extension": ".py",
   "mimetype": "text/x-python",
   "name": "python",
   "nbconvert_exporter": "python",
   "pygments_lexer": "ipython3",
   "version": "3.12.3"
  }
 },
 "nbformat": 4,
 "nbformat_minor": 5
}
