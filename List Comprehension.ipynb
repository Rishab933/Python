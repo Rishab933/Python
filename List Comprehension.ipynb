{
 "cells": [
  {
   "cell_type": "code",
   "execution_count": 1,
   "id": "95a269ef-06f6-40a1-b603-06eb771f3b24",
   "metadata": {},
   "outputs": [
    {
     "name": "stdout",
     "output_type": "stream",
     "text": [
      "[40, 9, 2, 51, 30, 8, 9.99, 11, 17]\n"
     ]
    }
   ],
   "source": [
    "a = [40,9,2,51,30,8,9.99,11,17]\n",
    "print (a)"
   ]
  },
  {
   "cell_type": "code",
   "execution_count": 4,
   "id": "b67f9bfa-85c2-4ef2-9b63-e77ecd9e99d5",
   "metadata": {},
   "outputs": [],
   "source": [
    "# creating a new list whoes items are >10\n",
    "b=[]\n",
    "for i in a:\n",
    "    if i>10:\n",
    "        b.append(i)"
   ]
  },
  {
   "cell_type": "code",
   "execution_count": 5,
   "id": "99a1ee70-3cae-4db5-ad2c-1dd363da247f",
   "metadata": {},
   "outputs": [
    {
     "name": "stdout",
     "output_type": "stream",
     "text": [
      "[40, 51, 30, 11, 17]\n"
     ]
    }
   ],
   "source": [
    "print(b)"
   ]
  },
  {
   "cell_type": "code",
   "execution_count": 6,
   "id": "15baa88f-5346-4e0b-a039-ed9092368a75",
   "metadata": {},
   "outputs": [],
   "source": [
    "b.sort()"
   ]
  },
  {
   "cell_type": "code",
   "execution_count": 7,
   "id": "afc7d992-03fc-47f4-a1ff-a425f1d74c76",
   "metadata": {},
   "outputs": [
    {
     "name": "stdout",
     "output_type": "stream",
     "text": [
      "[11, 17, 30, 40, 51]\n"
     ]
    }
   ],
   "source": [
    "print(b)"
   ]
  },
  {
   "cell_type": "code",
   "execution_count": 8,
   "id": "61fba659-4d59-47cc-9be6-84bc0aa9d7ff",
   "metadata": {},
   "outputs": [],
   "source": [
    "# doing the same thing using list comprehension\n",
    "c = [ i for i in a if i>10]"
   ]
  },
  {
   "cell_type": "code",
   "execution_count": 9,
   "id": "ab750193-cfc8-47b8-b126-3d1d1b54d61c",
   "metadata": {},
   "outputs": [],
   "source": [
    "c.sort()"
   ]
  },
  {
   "cell_type": "code",
   "execution_count": 10,
   "id": "a1fb4a15-20f6-4829-8971-dec951e3d272",
   "metadata": {},
   "outputs": [
    {
     "name": "stdout",
     "output_type": "stream",
     "text": [
      "[11, 17, 30, 40, 51]\n"
     ]
    }
   ],
   "source": [
    "print(c)"
   ]
  },
  {
   "cell_type": "code",
   "execution_count": 11,
   "id": "4eb28007-38b2-4e89-b914-33e79c4b3e04",
   "metadata": {},
   "outputs": [],
   "source": [
    "# another example"
   ]
  },
  {
   "cell_type": "code",
   "execution_count": 16,
   "id": "797f5229-a0d7-42de-a583-4aecac0e91d0",
   "metadata": {},
   "outputs": [
    {
     "name": "stdout",
     "output_type": "stream",
     "text": [
      "['apple', 'banana', 'cherry']\n",
      "['cherry']\n"
     ]
    }
   ],
   "source": [
    "fruits = [\"apple\",\"banana\",\"cherry\"]\n",
    "print(fruits)\n",
    "fruit_without_a = [i for i in fruits if \"a\" not in i]\n",
    "print (fruit_without_a)"
   ]
  },
  {
   "cell_type": "code",
   "execution_count": 18,
   "id": "792b625a-1cf4-4773-9106-d163e13c6371",
   "metadata": {},
   "outputs": [
    {
     "name": "stdout",
     "output_type": "stream",
     "text": [
      "['apple', 'banana', 'cherry']\n"
     ]
    }
   ],
   "source": [
    "# to copy a list\n",
    "FRUITS_COPY = fruits.copy()\n",
    "print(FRUITS_COPY)"
   ]
  },
  {
   "cell_type": "code",
   "execution_count": 19,
   "id": "3c9d3ddf-b0cd-42ce-a041-b331f5faf9a4",
   "metadata": {},
   "outputs": [
    {
     "name": "stdout",
     "output_type": "stream",
     "text": [
      "['apple', 'banana', 'cherry', 'apple', 'banana', 'cherry']\n"
     ]
    }
   ],
   "source": [
    "# concatination of two list\n",
    "FRUITS_COPY = fruits + FRUITS_COPY\n",
    "print(FRUITS_COPY)"
   ]
  },
  {
   "cell_type": "code",
   "execution_count": 20,
   "id": "092a16e9-a130-4c66-a87d-1bed390daf3c",
   "metadata": {},
   "outputs": [
    {
     "name": "stdout",
     "output_type": "stream",
     "text": [
      "[40, 9, 2, 51, 30, 8, 9.99, 11, 17, 11, 17, 30, 40, 51]\n"
     ]
    }
   ],
   "source": [
    "c = a + b\n",
    "print (c)"
   ]
  }
 ],
 "metadata": {
  "kernelspec": {
   "display_name": "Python 3 (ipykernel)",
   "language": "python",
   "name": "python3"
  },
  "language_info": {
   "codemirror_mode": {
    "name": "ipython",
    "version": 3
   },
   "file_extension": ".py",
   "mimetype": "text/x-python",
   "name": "python",
   "nbconvert_exporter": "python",
   "pygments_lexer": "ipython3",
   "version": "3.12.3"
  }
 },
 "nbformat": 4,
 "nbformat_minor": 5
}
