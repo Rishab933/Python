{
 "cells": [
  {
   "cell_type": "code",
   "execution_count": 4,
   "id": "49bcdfe2-70be-4c8d-881a-43e44a3408b1",
   "metadata": {},
   "outputs": [
    {
     "name": "stdin",
     "output_type": "stream",
     "text": [
      "Enter Temperature in celsius :  20\n"
     ]
    },
    {
     "name": "stdout",
     "output_type": "stream",
     "text": [
      "The temperature in celsius scale is  20.0\n",
      "The same temperature in Fahrenheit scale is :  68.0\n"
     ]
    }
   ],
   "source": [
    "c = float(input(\"Enter Temperature in celsius : \"))\n",
    "print(\"The temperature in celsius scale is \",c)\n",
    "f = ((c*9)/5)+32\n",
    "print(\"The same temperature in Fahrenheit scale is : \",f)\n",
    "# f = c*9/5+32\n",
    "# This will generate the same result due to operator precidence."
   ]
  },
  {
   "cell_type": "code",
   "execution_count": null,
   "id": "fed4c1e8-d3ed-4c10-bbc0-e9b18d3d7986",
   "metadata": {},
   "outputs": [],
   "source": []
  }
 ],
 "metadata": {
  "kernelspec": {
   "display_name": "Python 3 (ipykernel)",
   "language": "python",
   "name": "python3"
  },
  "language_info": {
   "codemirror_mode": {
    "name": "ipython",
    "version": 3
   },
   "file_extension": ".py",
   "mimetype": "text/x-python",
   "name": "python",
   "nbconvert_exporter": "python",
   "pygments_lexer": "ipython3",
   "version": "3.12.3"
  }
 },
 "nbformat": 4,
 "nbformat_minor": 5
}
