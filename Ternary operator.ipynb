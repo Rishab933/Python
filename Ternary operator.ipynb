{
 "cells": [
  {
   "cell_type": "code",
   "execution_count": 1,
   "id": "e1beb7e0-769b-4fef-a528-c0dfa821d1e2",
   "metadata": {},
   "outputs": [],
   "source": [
    "# checking odd or even "
   ]
  },
  {
   "cell_type": "code",
   "execution_count": 2,
   "id": "345d0cfa-f2af-4d88-bcaa-0b5b00734c79",
   "metadata": {},
   "outputs": [
    {
     "name": "stdin",
     "output_type": "stream",
     "text": [
      "Enter a number :  21\n"
     ]
    },
    {
     "name": "stdout",
     "output_type": "stream",
     "text": [
      "Output is : odd\n"
     ]
    }
   ],
   "source": [
    "a = int(input(\"Enter a number : \"))\n",
    "output = \"Even\" if a%2 == 0 else \"odd\"\n",
    "print(\"Output is : \"+output)"
   ]
  },
  {
   "cell_type": "code",
   "execution_count": null,
   "id": "df4b026b-afc6-4848-8d0e-eb9c7cd89137",
   "metadata": {},
   "outputs": [],
   "source": []
  }
 ],
 "metadata": {
  "kernelspec": {
   "display_name": "Python 3 (ipykernel)",
   "language": "python",
   "name": "python3"
  },
  "language_info": {
   "codemirror_mode": {
    "name": "ipython",
    "version": 3
   },
   "file_extension": ".py",
   "mimetype": "text/x-python",
   "name": "python",
   "nbconvert_exporter": "python",
   "pygments_lexer": "ipython3",
   "version": "3.12.3"
  }
 },
 "nbformat": 4,
 "nbformat_minor": 5
}
