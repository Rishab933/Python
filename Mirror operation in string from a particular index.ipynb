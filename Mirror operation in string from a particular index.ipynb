{
 "cells": [
  {
   "cell_type": "code",
   "execution_count": 18,
   "id": "b9df8be5-5928-4657-8e1f-d7d80c6e8ac5",
   "metadata": {},
   "outputs": [
    {
     "name": "stdin",
     "output_type": "stream",
     "text": [
      "Enter a string:  paradox\n"
     ]
    }
   ],
   "source": [
    "s = input(\"Enter a string: \")"
   ]
  },
  {
   "cell_type": "code",
   "execution_count": 19,
   "id": "4478fdfd-5523-4cb2-9925-96f4573870c8",
   "metadata": {},
   "outputs": [
    {
     "name": "stdin",
     "output_type": "stream",
     "text": [
      "Enter the position :  3\n"
     ]
    }
   ],
   "source": [
    "n = int(input(\"Enter the position : \"))"
   ]
  },
  {
   "cell_type": "code",
   "execution_count": 20,
   "id": "d60b34b5-66a8-41c2-acc8-1207dd934c6e",
   "metadata": {},
   "outputs": [
    {
     "name": "stdout",
     "output_type": "stream",
     "text": [
      "paradox\n",
      "<class 'str'>\n"
     ]
    }
   ],
   "source": [
    "print(s)\n",
    "print(type(s))\n",
    "x = len(s)"
   ]
  },
  {
   "cell_type": "code",
   "execution_count": 21,
   "id": "1fe17f8f-35f2-4fb0-8f52-37864cb9c295",
   "metadata": {},
   "outputs": [
    {
     "name": "stdout",
     "output_type": "stream",
     "text": [
      "abcdefghijklmnopqrstuvwxyz\n",
      "zyxwvutsrqponmlkjihgfedcba\n",
      "pa\n",
      "radox\n",
      "<class 'str'>\n"
     ]
    }
   ],
   "source": [
    "s_r = s[0:n-1]\n",
    "s_m = s[n-1:]\n",
    "a = \"abcdefghijklmnopqrstuvwxyz\"\n",
    "b = a[::-1]\n",
    "print(a)\n",
    "print(b)\n",
    "print(s_r)\n",
    "print(s_m)\n",
    "print(type(s_r))"
   ]
  },
  {
   "cell_type": "code",
   "execution_count": 22,
   "id": "1fc96f44-6a88-4e26-927b-3e25dc8976e8",
   "metadata": {},
   "outputs": [
    {
     "name": "stdout",
     "output_type": "stream",
     "text": [
      "{'a': 'z', 'b': 'y', 'c': 'x', 'd': 'w', 'e': 'v', 'f': 'u', 'g': 't', 'h': 's', 'i': 'r', 'j': 'q', 'k': 'p', 'l': 'o', 'm': 'n', 'n': 'm', 'o': 'l', 'p': 'k', 'q': 'j', 'r': 'i', 's': 'h', 't': 'g', 'u': 'f', 'v': 'e', 'w': 'd', 'x': 'c', 'y': 'b', 'z': 'a'}\n"
     ]
    }
   ],
   "source": [
    "dic = dict(zip(a,b))\n",
    "print(dic)"
   ]
  },
  {
   "cell_type": "code",
   "execution_count": 23,
   "id": "3a355fd1-29bc-4677-816d-56db50d2a746",
   "metadata": {},
   "outputs": [
    {
     "name": "stdout",
     "output_type": "stream",
     "text": [
      "izwlc\n",
      "paizwlc\n"
     ]
    }
   ],
   "source": [
    "mirror = \"\"\n",
    "for i in range(0,len(s_m)):\n",
    "    mirror = mirror + dic[s_m[i]]\n",
    "print(mirror)\n",
    "output = s_r+mirror\n",
    "print(output)"
   ]
  }
 ],
 "metadata": {
  "kernelspec": {
   "display_name": "Python 3 (ipykernel)",
   "language": "python",
   "name": "python3"
  },
  "language_info": {
   "codemirror_mode": {
    "name": "ipython",
    "version": 3
   },
   "file_extension": ".py",
   "mimetype": "text/x-python",
   "name": "python",
   "nbconvert_exporter": "python",
   "pygments_lexer": "ipython3",
   "version": "3.12.3"
  }
 },
 "nbformat": 4,
 "nbformat_minor": 5
}
