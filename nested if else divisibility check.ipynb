{
 "cells": [
  {
   "cell_type": "code",
   "execution_count": 2,
   "id": "15617afa-2ea3-4eda-bc1d-949bbd48e4fa",
   "metadata": {},
   "outputs": [
    {
     "name": "stdin",
     "output_type": "stream",
     "text": [
      "Enter a number :  18\n"
     ]
    },
    {
     "name": "stdout",
     "output_type": "stream",
     "text": [
      "number is not divisible by 15 but its divisible by 3.\n"
     ]
    }
   ],
   "source": [
    "a = int(input(\"Enter a number : \"))\n",
    "if a%15 == 0:\n",
    "    print(\"number is divible by 15.\")\n",
    "else :\n",
    "    if a%3 == 0:\n",
    "        print(\"number is not divisible by 15 but its divisible by 3.\")\n",
    "    elif a%5 == 0:\n",
    "        print(\"number is not divisible by 15 but its divisible by 5.\")\n",
    "    else:\n",
    "        print(\"number is not divisible by 3 or 5 or 15.\")\n",
    "        \n",
    "        "
   ]
  },
  {
   "cell_type": "code",
   "execution_count": null,
   "id": "92688488-98db-4dbd-b16b-1f1f849ea622",
   "metadata": {},
   "outputs": [],
   "source": []
  }
 ],
 "metadata": {
  "kernelspec": {
   "display_name": "Python 3 (ipykernel)",
   "language": "python",
   "name": "python3"
  },
  "language_info": {
   "codemirror_mode": {
    "name": "ipython",
    "version": 3
   },
   "file_extension": ".py",
   "mimetype": "text/x-python",
   "name": "python",
   "nbconvert_exporter": "python",
   "pygments_lexer": "ipython3",
   "version": "3.12.3"
  }
 },
 "nbformat": 4,
 "nbformat_minor": 5
}
